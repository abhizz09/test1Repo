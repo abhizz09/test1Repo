{
 "cells": [
  {
   "cell_type": "code",
   "execution_count": 1,
   "metadata": {},
   "outputs": [],
   "source": [
    "import cv2\n",
    "import numpy as np\n",
    "import matplotlib.pyplot as plt\n",
    "import pandas as pd\n",
    "import time"
   ]
  },
  {
   "cell_type": "code",
   "execution_count": 2,
   "metadata": {},
   "outputs": [],
   "source": [
    "backSub = cv2.createBackgroundSubtractorMOG2(300, 400, 2)\n",
    "#backSub = cv2.createBackgroundSubtractorKNN(detectShadows=True)\n",
    "    \n",
    "capture = cv2.VideoCapture(\"C:/Users/shrin/Documents/Abhilash/tata steel/HUMAN DET/view-1/0 - 2019-12-20 11-00-00-365.mov\")\n",
    "\n",
    "\n",
    "\n",
    "#capture = cv2.VideoCapture(\"C:/Users/shrin/Downloads/WhatsApp Video 2020-01-07 at 1.09.33 PM.mp4\")\n",
    "\n",
    "capture.set(cv2.CAP_PROP_POS_FRAMES,3000)\n",
    "\n",
    "template = cv2.imread('template2.jpg',0)\n",
    "\n",
    "\n",
    "if not capture.isOpened:\n",
    "    print('Unable to open: ' + args.input)\n",
    "    exit(0)\n",
    "while True:\n",
    "    ret, frame = capture.read()\n",
    "    if frame is None:\n",
    "        break\n",
    "    \n",
    "    blurFrame = cv2.GaussianBlur(frame,(9,9),0)\n",
    "    \n",
    "    fgMask = backSub.apply(blurFrame)\n",
    "    \n",
    "    cv2.rectangle(fgMask, (410, 80), (573,110), (0), -1)\n",
    "    cv2.rectangle(fgMask, (20, 300), (40,345), (0), -1)  # time = [410,80,573,110]  blinkRed = [20,300,40,345]\n",
    "    \n",
    "    kernel = cv2.getStructuringElement(cv2.MORPH_ELLIPSE,(3,3))\n",
    "    fgMask = dilation = cv2.dilate(fgMask,kernel,iterations = 5)\n",
    "    \n",
    "    '''img = cv2.cvtColor(frame.copy(),cv2.COLOR_BGR2RGB)\n",
    "    r,g,b = cv2.split(img.copy()) \n",
    "    hsv = cv2.cvtColor(img.copy(),cv2.COLOR_RGB2HSV)\n",
    "    h,s,v = cv2.split(hsv)\n",
    "    yuv = cv2.cvtColor(img.copy(),cv2.COLOR_RGB2YUV)\n",
    "    y,u,vb = cv2.split(yuv)'''\n",
    "    \n",
    "    \n",
    "    # thrsh\n",
    "    _,undistortedThreh = cv2.threshold(fgMask,230,250,cv2.THRESH_BINARY) \n",
    "    blank = np.zeros((frame.shape),np.uint8)\n",
    "    #print(blank.shape,\"shape<------------------------------\")\n",
    "    # cnts\n",
    "    _ , contours, hierarchy =   cv2.findContours(undistortedThreh.copy(),cv2.RETR_CCOMP,cv2.CHAIN_APPROX_SIMPLE)\n",
    "    cnts = sorted(contours, key = cv2.contourArea,reverse= True)\n",
    "    \n",
    "    if len(cnts)< 15:\n",
    "        for c in cnts:\n",
    "            #print(cv2.contourArea(c))\n",
    "            if cv2.contourArea(c) < 3000 and cv2.contourArea(c) > 35:\n",
    "                perimeter = cv2.arcLength(c,True)\n",
    "                epsilon = 0.0001*cv2.arcLength(c,True)\n",
    "                approx = cv2.approxPolyDP(c,epsilon,True)\n",
    "                x,y,w,h = cv2.boundingRect(approx)\n",
    "                if x > 165 and x < 691 and y > 190 and y < 340:# (165, 190, 691, 423)\n",
    "                    #cv2.rectangle(frame, (250,45), (350,85), (255,255,255), -1)\n",
    "                    cv2.putText(frame, \"....Man IN Danger Zone....\", (175, 45),\n",
    "               cv2.FONT_HERSHEY_SIMPLEX, 1 , (0,0,255),2)\n",
    "                    \n",
    "                #cv2.rectangle(frame, (x, y), (x+w,y+h), (0,255,25), 5)\n",
    "                cntDraw = cv2.drawContours(blank,[approx],-1,255,1)\n",
    "                \n",
    "                #imgGray = cv2.cvtColor(frame[y-15:y+h+10, x-15:x+w+10],cv2.COLOR_BGR2GRAY)\n",
    "                #plt.imshow(blank[y-15:y+h+10, x-15:x+w+10])\n",
    "                #cv2.imshow('Frame', cntDraw)\n",
    "                \n",
    "                imgGray = cv2.cvtColor(cntDraw[y:y+h, x:x+w],cv2.COLOR_BGR2GRAY)\n",
    "                circles = cv2.HoughCircles(imgGray, cv2.HOUGH_GRADIENT, 1, 300)\n",
    "\n",
    "                # ensure at least some circles were found\n",
    "                if circles is not None:\n",
    "                    print(\"xbcjkbjkxxxxxxxxxxxxxxxxxxxxxxxxxxxxxxxxxxxxxxxxx\")\n",
    "                    # convert the (x, y) coordinates and radius of the circles to integers\n",
    "                    circles = np.round(circles[0, :]).astype(\"int\")\n",
    "\n",
    "                    # loop over the (x, y) coordinates and radius of the circles\n",
    "                    for (x, y, r) in circles:\n",
    "                        # draw the circle in the output image, then draw a rectangle\n",
    "                        # corresponding to the center of the circle\n",
    "                        cv2.circle(frame, (x, y), r, (0, 255, 0), -1)\n",
    "                        cv2.rectangle(frame, (x - 5, y - 5), (x + 5, y + 5), (0, 128, 255), -1)\n",
    "                        \n",
    "#                else:\n",
    "#                    print(\"noooooooo circle\")\n",
    "\n",
    "                \n",
    "                \n",
    "    '''elif len(cnts) == 0 or len(cnts) == None or len(cnts) >15:\n",
    "        cv2.putText(frame, \"....temp matching....\", (175, frame.shape[0] - 45),\n",
    "               cv2.FONT_HERSHEY_SIMPLEX, 1 , (0,0,255),2)\n",
    "        print(\"_______________________________\")\n",
    "        \n",
    "        imgGray = cv2.cvtColor(frame,cv2.COLOR_BGR2GRAY)\n",
    "        res = cv2.matchTemplate(imgGray,template,cv2.TM_CCOEFF_NORMED) #cv2.TM_CCOEFF_NORMED)cv2.TM_CCOEFF\n",
    "        threshold = 0.59\n",
    "        loc = np.where( res >= threshold)\n",
    "        \n",
    "        \n",
    "        # h circles\n",
    "        \n",
    "        circles = cv2.HoughCircles(imgGray, cv2.HOUGH_GRADIENT, 1, 500)\n",
    "\n",
    "        # ensure at least some circles were found\n",
    "        if circles is not None:\n",
    "            # convert the (x, y) coordinates and radius of the circles to integers\n",
    "            circles = np.round(circles[0, :]).astype(\"int\")\n",
    "\n",
    "            # loop over the (x, y) coordinates and radius of the circles\n",
    "            for (x, y, r) in circles:\n",
    "                # draw the circle in the output image, then draw a rectangle\n",
    "                # corresponding to the center of the circle\n",
    "                cv2.circle(frame, (x, y), r, (0, 255, 0), 4)\n",
    "                cv2.rectangle(frame, (x - 5, y - 5), (x + 5, y + 5), (0, 128, 255), -1)\n",
    "\n",
    "        if len(loc) == 2:\n",
    "            for pt in zip(*loc[::-1]):\n",
    "                print(pt)\n",
    "                cv2.rectangle(imgGray, pt, (pt[0] + w, pt[1] + h), (0,0,255), 2)\n",
    "                template = imgGray[pt[1]:pt[1]+h, pt[0]:pt[0]+w]\n",
    "                w, h = template.shape[::-1]\n",
    "                break\n",
    "'''        ''' else:\n",
    "            template = cv2.imread('template1.jpg',0)\n",
    "            w, h = template.shape[::-1]'''\n",
    "\n",
    "\n",
    "        \n",
    "            \n",
    "            \n",
    "        \n",
    "    #print(\"Next----------------------------------------------------------------------------------------------\")\n",
    "    \n",
    "    #draw cnt\n",
    "    \n",
    "    \n",
    "    \n",
    "        \n",
    "    \n",
    "    cv2.rectangle(frame, (10, 2), (100,20), (255,255,255), -1)\n",
    "    cv2.putText(frame, str(capture.get(cv2.CAP_PROP_POS_FRAMES)), (15, 15),\n",
    "               cv2.FONT_HERSHEY_SIMPLEX, 0.5 , (0,0,0))\n",
    "    \n",
    "    \n",
    "    cv2.imshow('Frame', frame)\n",
    "    cv2.imshow('FG Mask', fgMask)\n",
    "    #cv2.imshow('thresh', undistortedThreh)\n",
    "    cv2.imshow('Cnt Draw', cntDraw)\n",
    "    time.sleep(.1)\n",
    "    \n",
    "    '''cv2.imshow('g', g)\n",
    "    cv2.imshow('b', b)\n",
    "    cv2.imshow('h', h)\n",
    "    cv2.imshow('s', s)\n",
    "    cv2.imshow('v', v)'''\n",
    "    \n",
    "    if cv2.waitKey(1) & 0xFF == ord('q'):\n",
    "        break\n",
    "\n",
    "cv2.waitKey(0)\n",
    "cv2.destroyAllWindows()"
   ]
  },
  {
   "cell_type": "code",
   "execution_count": 3,
   "metadata": {},
   "outputs": [],
   "source": [
    "#%matplotlib notebook"
   ]
  },
  {
   "cell_type": "code",
   "execution_count": 4,
   "metadata": {},
   "outputs": [
    {
     "data": {
      "text/plain": [
       "<matplotlib.image.AxesImage at 0x23e7547ae48>"
      ]
     },
     "execution_count": 4,
     "metadata": {},
     "output_type": "execute_result"
    },
    {
     "data": {
      "image/png": "[encoded data removed]",
      "text/plain": [
       "<Figure size 432x288 with 1 Axes>"
      ]
     },
     "metadata": {
      "needs_background": "light"
     },
     "output_type": "display_data"
    }
   ],
   "source": [
    "plt.imshow(blank)"
   ]
  },
  {
   "cell_type": "code",
   "execution_count": 5,
   "metadata": {
    "scrolled": true
   },
   "outputs": [
    {
     "ename": "ValueError",
     "evalue": "zero-size array to reduction operation minimum which has no identity",
     "output_type": "error",
     "traceback": [
      "\u001b[1;31m---------------------------------------------------------------------------\u001b[0m",
      "\u001b[1;31mValueError\u001b[0m                                Traceback (most recent call last)",
      "\u001b[1;32m<ipython-input-5-ca328ee674af>\u001b[0m in \u001b[0;36m<module>\u001b[1;34m\u001b[0m\n\u001b[1;32m----> 1\u001b[1;33m \u001b[0mplt\u001b[0m\u001b[1;33m.\u001b[0m\u001b[0mimshow\u001b[0m\u001b[1;33m(\u001b[0m\u001b[0mblank\u001b[0m\u001b[1;33m[\u001b[0m\u001b[0my\u001b[0m\u001b[1;33m-\u001b[0m\u001b[1;36m15\u001b[0m\u001b[1;33m:\u001b[0m\u001b[0my\u001b[0m\u001b[1;33m+\u001b[0m\u001b[0mh\u001b[0m\u001b[1;33m+\u001b[0m\u001b[1;36m10\u001b[0m\u001b[1;33m,\u001b[0m \u001b[0mx\u001b[0m\u001b[1;33m-\u001b[0m\u001b[1;36m15\u001b[0m\u001b[1;33m:\u001b[0m\u001b[0mx\u001b[0m\u001b[1;33m+\u001b[0m\u001b[0mw\u001b[0m\u001b[1;33m+\u001b[0m\u001b[1;36m10\u001b[0m\u001b[1;33m]\u001b[0m\u001b[1;33m)\u001b[0m\u001b[1;33m\u001b[0m\u001b[1;33m\u001b[0m\u001b[0m\n\u001b[0m",
      "\u001b[1;32mc:\\users\\shrin\\appdata\\local\\programs\\python\\python37\\lib\\site-packages\\matplotlib\\pyplot.py\u001b[0m in \u001b[0;36mimshow\u001b[1;34m(X, cmap, norm, aspect, interpolation, alpha, vmin, vmax, origin, extent, shape, filternorm, filterrad, imlim, resample, url, data, **kwargs)\u001b[0m\n\u001b[0;32m   2681\u001b[0m         \u001b[0mfilternorm\u001b[0m\u001b[1;33m=\u001b[0m\u001b[0mfilternorm\u001b[0m\u001b[1;33m,\u001b[0m \u001b[0mfilterrad\u001b[0m\u001b[1;33m=\u001b[0m\u001b[0mfilterrad\u001b[0m\u001b[1;33m,\u001b[0m \u001b[0mimlim\u001b[0m\u001b[1;33m=\u001b[0m\u001b[0mimlim\u001b[0m\u001b[1;33m,\u001b[0m\u001b[1;33m\u001b[0m\u001b[1;33m\u001b[0m\u001b[0m\n\u001b[0;32m   2682\u001b[0m         resample=resample, url=url, **({\"data\": data} if data is not\n\u001b[1;32m-> 2683\u001b[1;33m         None else {}), **kwargs)\n\u001b[0m\u001b[0;32m   2684\u001b[0m     \u001b[0msci\u001b[0m\u001b[1;33m(\u001b[0m\u001b[0m__ret\u001b[0m\u001b[1;33m)\u001b[0m\u001b[1;33m\u001b[0m\u001b[1;33m\u001b[0m\u001b[0m\n\u001b[0;32m   2685\u001b[0m     \u001b[1;32mreturn\u001b[0m \u001b[0m__ret\u001b[0m\u001b[1;33m\u001b[0m\u001b[1;33m\u001b[0m\u001b[0m\n",
      "\u001b[1;32mc:\\users\\shrin\\appdata\\local\\programs\\python\\python37\\lib\\site-packages\\matplotlib\\__init__.py\u001b[0m in \u001b[0;36minner\u001b[1;34m(ax, data, *args, **kwargs)\u001b[0m\n\u001b[0;32m   1599\u001b[0m     \u001b[1;32mdef\u001b[0m \u001b[0minner\u001b[0m\u001b[1;33m(\u001b[0m\u001b[0max\u001b[0m\u001b[1;33m,\u001b[0m \u001b[1;33m*\u001b[0m\u001b[0margs\u001b[0m\u001b[1;33m,\u001b[0m \u001b[0mdata\u001b[0m\u001b[1;33m=\u001b[0m\u001b[1;32mNone\u001b[0m\u001b[1;33m,\u001b[0m \u001b[1;33m**\u001b[0m\u001b[0mkwargs\u001b[0m\u001b[1;33m)\u001b[0m\u001b[1;33m:\u001b[0m\u001b[1;33m\u001b[0m\u001b[1;33m\u001b[0m\u001b[0m\n\u001b[0;32m   1600\u001b[0m         \u001b[1;32mif\u001b[0m \u001b[0mdata\u001b[0m \u001b[1;32mis\u001b[0m \u001b[1;32mNone\u001b[0m\u001b[1;33m:\u001b[0m\u001b[1;33m\u001b[0m\u001b[1;33m\u001b[0m\u001b[0m\n\u001b[1;32m-> 1601\u001b[1;33m             \u001b[1;32mreturn\u001b[0m \u001b[0mfunc\u001b[0m\u001b[1;33m(\u001b[0m\u001b[0max\u001b[0m\u001b[1;33m,\u001b[0m \u001b[1;33m*\u001b[0m\u001b[0mmap\u001b[0m\u001b[1;33m(\u001b[0m\u001b[0msanitize_sequence\u001b[0m\u001b[1;33m,\u001b[0m \u001b[0margs\u001b[0m\u001b[1;33m)\u001b[0m\u001b[1;33m,\u001b[0m \u001b[1;33m**\u001b[0m\u001b[0mkwargs\u001b[0m\u001b[1;33m)\u001b[0m\u001b[1;33m\u001b[0m\u001b[1;33m\u001b[0m\u001b[0m\n\u001b[0m\u001b[0;32m   1602\u001b[0m \u001b[1;33m\u001b[0m\u001b[0m\n\u001b[0;32m   1603\u001b[0m         \u001b[0mbound\u001b[0m \u001b[1;33m=\u001b[0m \u001b[0mnew_sig\u001b[0m\u001b[1;33m.\u001b[0m\u001b[0mbind\u001b[0m\u001b[1;33m(\u001b[0m\u001b[0max\u001b[0m\u001b[1;33m,\u001b[0m \u001b[1;33m*\u001b[0m\u001b[0margs\u001b[0m\u001b[1;33m,\u001b[0m \u001b[1;33m**\u001b[0m\u001b[0mkwargs\u001b[0m\u001b[1;33m)\u001b[0m\u001b[1;33m\u001b[0m\u001b[1;33m\u001b[0m\u001b[0m\n",
      "\u001b[1;32mc:\\users\\shrin\\appdata\\local\\programs\\python\\python37\\lib\\site-packages\\matplotlib\\cbook\\deprecation.py\u001b[0m in \u001b[0;36mwrapper\u001b[1;34m(*args, **kwargs)\u001b[0m\n\u001b[0;32m    367\u001b[0m                 \u001b[1;34mf\"%(removal)s.  If any parameter follows {name!r}, they \"\u001b[0m\u001b[1;33m\u001b[0m\u001b[1;33m\u001b[0m\u001b[0m\n\u001b[0;32m    368\u001b[0m                 f\"should be pass as keyword, not positionally.\")\n\u001b[1;32m--> 369\u001b[1;33m         \u001b[1;32mreturn\u001b[0m \u001b[0mfunc\u001b[0m\u001b[1;33m(\u001b[0m\u001b[1;33m*\u001b[0m\u001b[0margs\u001b[0m\u001b[1;33m,\u001b[0m \u001b[1;33m**\u001b[0m\u001b[0mkwargs\u001b[0m\u001b[1;33m)\u001b[0m\u001b[1;33m\u001b[0m\u001b[1;33m\u001b[0m\u001b[0m\n\u001b[0m\u001b[0;32m    370\u001b[0m \u001b[1;33m\u001b[0m\u001b[0m\n\u001b[0;32m    371\u001b[0m     \u001b[1;32mreturn\u001b[0m \u001b[0mwrapper\u001b[0m\u001b[1;33m\u001b[0m\u001b[1;33m\u001b[0m\u001b[0m\n",
      "\u001b[1;32mc:\\users\\shrin\\appdata\\local\\programs\\python\\python37\\lib\\site-packages\\matplotlib\\cbook\\deprecation.py\u001b[0m in \u001b[0;36mwrapper\u001b[1;34m(*args, **kwargs)\u001b[0m\n\u001b[0;32m    367\u001b[0m                 \u001b[1;34mf\"%(removal)s.  If any parameter follows {name!r}, they \"\u001b[0m\u001b[1;33m\u001b[0m\u001b[1;33m\u001b[0m\u001b[0m\n\u001b[0;32m    368\u001b[0m                 f\"should be pass as keyword, not positionally.\")\n\u001b[1;32m--> 369\u001b[1;33m         \u001b[1;32mreturn\u001b[0m \u001b[0mfunc\u001b[0m\u001b[1;33m(\u001b[0m\u001b[1;33m*\u001b[0m\u001b[0margs\u001b[0m\u001b[1;33m,\u001b[0m \u001b[1;33m**\u001b[0m\u001b[0mkwargs\u001b[0m\u001b[1;33m)\u001b[0m\u001b[1;33m\u001b[0m\u001b[1;33m\u001b[0m\u001b[0m\n\u001b[0m\u001b[0;32m    370\u001b[0m \u001b[1;33m\u001b[0m\u001b[0m\n\u001b[0;32m    371\u001b[0m     \u001b[1;32mreturn\u001b[0m \u001b[0mwrapper\u001b[0m\u001b[1;33m\u001b[0m\u001b[1;33m\u001b[0m\u001b[0m\n",
      "\u001b[1;32mc:\\users\\shrin\\appdata\\local\\programs\\python\\python37\\lib\\site-packages\\matplotlib\\axes\\_axes.py\u001b[0m in \u001b[0;36mimshow\u001b[1;34m(self, X, cmap, norm, aspect, interpolation, alpha, vmin, vmax, origin, extent, shape, filternorm, filterrad, imlim, resample, url, **kwargs)\u001b[0m\n\u001b[0;32m   5669\u001b[0m                               resample=resample, **kwargs)\n\u001b[0;32m   5670\u001b[0m \u001b[1;33m\u001b[0m\u001b[0m\n\u001b[1;32m-> 5671\u001b[1;33m         \u001b[0mim\u001b[0m\u001b[1;33m.\u001b[0m\u001b[0mset_data\u001b[0m\u001b[1;33m(\u001b[0m\u001b[0mX\u001b[0m\u001b[1;33m)\u001b[0m\u001b[1;33m\u001b[0m\u001b[1;33m\u001b[0m\u001b[0m\n\u001b[0m\u001b[0;32m   5672\u001b[0m         \u001b[0mim\u001b[0m\u001b[1;33m.\u001b[0m\u001b[0mset_alpha\u001b[0m\u001b[1;33m(\u001b[0m\u001b[0malpha\u001b[0m\u001b[1;33m)\u001b[0m\u001b[1;33m\u001b[0m\u001b[1;33m\u001b[0m\u001b[0m\n\u001b[0;32m   5673\u001b[0m         \u001b[1;32mif\u001b[0m \u001b[0mim\u001b[0m\u001b[1;33m.\u001b[0m\u001b[0mget_clip_path\u001b[0m\u001b[1;33m(\u001b[0m\u001b[1;33m)\u001b[0m \u001b[1;32mis\u001b[0m \u001b[1;32mNone\u001b[0m\u001b[1;33m:\u001b[0m\u001b[1;33m\u001b[0m\u001b[1;33m\u001b[0m\u001b[0m\n",
      "\u001b[1;32mc:\\users\\shrin\\appdata\\local\\programs\\python\\python37\\lib\\site-packages\\matplotlib\\image.py\u001b[0m in \u001b[0;36mset_data\u001b[1;34m(self, A)\u001b[0m\n\u001b[0;32m    696\u001b[0m             \u001b[1;31m# making reliable interpretation impossible.\u001b[0m\u001b[1;33m\u001b[0m\u001b[1;33m\u001b[0m\u001b[1;33m\u001b[0m\u001b[0m\n\u001b[0;32m    697\u001b[0m             \u001b[0mhigh\u001b[0m \u001b[1;33m=\u001b[0m \u001b[1;36m255\u001b[0m \u001b[1;32mif\u001b[0m \u001b[0mnp\u001b[0m\u001b[1;33m.\u001b[0m\u001b[0missubdtype\u001b[0m\u001b[1;33m(\u001b[0m\u001b[0mself\u001b[0m\u001b[1;33m.\u001b[0m\u001b[0m_A\u001b[0m\u001b[1;33m.\u001b[0m\u001b[0mdtype\u001b[0m\u001b[1;33m,\u001b[0m \u001b[0mnp\u001b[0m\u001b[1;33m.\u001b[0m\u001b[0minteger\u001b[0m\u001b[1;33m)\u001b[0m \u001b[1;32melse\u001b[0m \u001b[1;36m1\u001b[0m\u001b[1;33m\u001b[0m\u001b[1;33m\u001b[0m\u001b[0m\n\u001b[1;32m--> 698\u001b[1;33m             \u001b[1;32mif\u001b[0m \u001b[0mself\u001b[0m\u001b[1;33m.\u001b[0m\u001b[0m_A\u001b[0m\u001b[1;33m.\u001b[0m\u001b[0mmin\u001b[0m\u001b[1;33m(\u001b[0m\u001b[1;33m)\u001b[0m \u001b[1;33m<\u001b[0m \u001b[1;36m0\u001b[0m \u001b[1;32mor\u001b[0m \u001b[0mhigh\u001b[0m \u001b[1;33m<\u001b[0m \u001b[0mself\u001b[0m\u001b[1;33m.\u001b[0m\u001b[0m_A\u001b[0m\u001b[1;33m.\u001b[0m\u001b[0mmax\u001b[0m\u001b[1;33m(\u001b[0m\u001b[1;33m)\u001b[0m\u001b[1;33m:\u001b[0m\u001b[1;33m\u001b[0m\u001b[1;33m\u001b[0m\u001b[0m\n\u001b[0m\u001b[0;32m    699\u001b[0m                 _log.warning(\n\u001b[0;32m    700\u001b[0m                     \u001b[1;34m'Clipping input data to the valid range for imshow with '\u001b[0m\u001b[1;33m\u001b[0m\u001b[1;33m\u001b[0m\u001b[0m\n",
      "\u001b[1;32mc:\\users\\shrin\\appdata\\local\\programs\\python\\python37\\lib\\site-packages\\numpy\\ma\\core.py\u001b[0m in \u001b[0;36mmin\u001b[1;34m(self, axis, out, fill_value, keepdims)\u001b[0m\n\u001b[0;32m   5639\u001b[0m         \u001b[1;32mif\u001b[0m \u001b[0mout\u001b[0m \u001b[1;32mis\u001b[0m \u001b[1;32mNone\u001b[0m\u001b[1;33m:\u001b[0m\u001b[1;33m\u001b[0m\u001b[1;33m\u001b[0m\u001b[0m\n\u001b[0;32m   5640\u001b[0m             result = self.filled(fill_value).min(\n\u001b[1;32m-> 5641\u001b[1;33m                 axis=axis, out=out, **kwargs).view(type(self))\n\u001b[0m\u001b[0;32m   5642\u001b[0m             \u001b[1;32mif\u001b[0m \u001b[0mresult\u001b[0m\u001b[1;33m.\u001b[0m\u001b[0mndim\u001b[0m\u001b[1;33m:\u001b[0m\u001b[1;33m\u001b[0m\u001b[1;33m\u001b[0m\u001b[0m\n\u001b[0;32m   5643\u001b[0m                 \u001b[1;31m# Set the mask\u001b[0m\u001b[1;33m\u001b[0m\u001b[1;33m\u001b[0m\u001b[1;33m\u001b[0m\u001b[0m\n",
      "\u001b[1;32mc:\\users\\shrin\\appdata\\local\\programs\\python\\python37\\lib\\site-packages\\numpy\\core\\_methods.py\u001b[0m in \u001b[0;36m_amin\u001b[1;34m(a, axis, out, keepdims, initial, where)\u001b[0m\n\u001b[0;32m     32\u001b[0m def _amin(a, axis=None, out=None, keepdims=False,\n\u001b[0;32m     33\u001b[0m           initial=_NoValue, where=True):\n\u001b[1;32m---> 34\u001b[1;33m     \u001b[1;32mreturn\u001b[0m \u001b[0mumr_minimum\u001b[0m\u001b[1;33m(\u001b[0m\u001b[0ma\u001b[0m\u001b[1;33m,\u001b[0m \u001b[0maxis\u001b[0m\u001b[1;33m,\u001b[0m \u001b[1;32mNone\u001b[0m\u001b[1;33m,\u001b[0m \u001b[0mout\u001b[0m\u001b[1;33m,\u001b[0m \u001b[0mkeepdims\u001b[0m\u001b[1;33m,\u001b[0m \u001b[0minitial\u001b[0m\u001b[1;33m,\u001b[0m \u001b[0mwhere\u001b[0m\u001b[1;33m)\u001b[0m\u001b[1;33m\u001b[0m\u001b[1;33m\u001b[0m\u001b[0m\n\u001b[0m\u001b[0;32m     35\u001b[0m \u001b[1;33m\u001b[0m\u001b[0m\n\u001b[0;32m     36\u001b[0m def _sum(a, axis=None, dtype=None, out=None, keepdims=False,\n",
      "\u001b[1;31mValueError\u001b[0m: zero-size array to reduction operation minimum which has no identity"
     ]
    },
    {
     "data": {
      "image/png": "[encoded data removed]",
      "text/plain": [
       "<Figure size 432x288 with 1 Axes>"
      ]
     },
     "metadata": {
      "needs_background": "light"
     },
     "output_type": "display_data"
    }
   ],
   "source": [
    "plt.imshow(blank[y-15:y+h+10, x-15:x+w+10])"
   ]
  },
  {
   "cell_type": "code",
   "execution_count": null,
   "metadata": {},
   "outputs": [],
   "source": [
    "220,410,246,437"
   ]
  },
  {
   "cell_type": "code",
   "execution_count": null,
   "metadata": {},
   "outputs": [],
   "source": [
    "\n",
    "template = frame[410:437,220:246]\n",
    "cv2.imwrite(\"template2.jpg\",template)"
   ]
  },
  {
   "cell_type": "code",
   "execution_count": null,
   "metadata": {},
   "outputs": [],
   "source": []
  },
  {
   "cell_type": "code",
   "execution_count": null,
   "metadata": {},
   "outputs": [],
   "source": [
    "#breakpoint()"
   ]
  },
  {
   "cell_type": "code",
   "execution_count": null,
   "metadata": {},
   "outputs": [],
   "source": []
  },
  {
   "cell_type": "code",
   "execution_count": 15,
   "metadata": {},
   "outputs": [],
   "source": [
    "import cv2\n",
    "import numpy as np\n",
    "cap = cv2.VideoCapture(\"C:/Users/shrin/Documents/Abhilash/tata steel/HUMAN DET/view-1/0 - 2019-12-20 11-00-00-365.mov\")\n",
    "\n",
    "ret, frame1 = cap.read()\n",
    "prvs = cv2.cvtColor(frame1,cv2.COLOR_BGR2GRAY)\n",
    "hsv = np.zeros_like(frame1)\n",
    "hsv[...,1] = 255\n",
    "\n",
    "while(1):\n",
    "    ret, frame2 = cap.read()\n",
    "    next = cv2.cvtColor(frame2,cv2.COLOR_BGR2GRAY)\n",
    "\n",
    "    flow = cv2.calcOpticalFlowFarneback( prvs,next, None, 0.5, 3, 15, 3, 5, 1.2, 0)\n",
    "\n",
    "    mag, ang = cv2.cartToPolar(flow[...,0], flow[...,1])\n",
    "    hsv[...,0] = ang*180/np.pi/2\n",
    "    hsv[...,2] = cv2.normalize(mag,None,0,255,cv2.NORM_MINMAX)\n",
    "    rgb = cv2.cvtColor(hsv,cv2.COLOR_HSV2BGR)\n",
    "\n",
    "    cv2.imshow('frame2',rgb)\n",
    "    k = cv2.waitKey(30) & 0xff\n",
    "    if k == 27:\n",
    "        break\n",
    "    elif k == ord('s'):\n",
    "        #cv2.imwrite('opticalfb.png',frame2)\n",
    "        #cv2.imwrite('opticalhsv.png',rgb)\n",
    "        print(\"sss\")\n",
    "    prvs = next\n",
    "\n",
    "cap.release()\n",
    "cv2.destroyAllWindows()"
   ]
  },
  {
   "cell_type": "code",
   "execution_count": null,
   "metadata": {},
   "outputs": [],
   "source": []
  }
 ],
 "metadata": {
  "kernelspec": {
   "display_name": "Python 3",
   "language": "python",
   "name": "python3"
  },
  "language_info": {
   "codemirror_mode": {
    "name": "ipython",
    "version": 3
   },
   "file_extension": ".py",
   "mimetype": "text/x-python",
   "name": "python",
   "nbconvert_exporter": "python",
   "pygments_lexer": "ipython3",
   "version": "3.7.5"
  }
 },
 "nbformat": 4,
 "nbformat_minor": 2
}
