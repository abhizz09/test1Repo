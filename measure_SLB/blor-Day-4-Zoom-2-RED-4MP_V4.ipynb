{
 "cells": [
  {
   "cell_type": "code",
   "execution_count": null,
   "metadata": {},
   "outputs": [],
   "source": [
    "import cv2\n",
    "import numpy as np\n",
    "import matplotlib.pyplot as plt\n",
    "import os\n",
    "import time\n",
    "%matplotlib inline\n",
    "from imutils.video import count_frames\n",
    "from scipy.spatial import distance as dist"
   ]
  },
  {
   "cell_type": "code",
   "execution_count": null,
   "metadata": {},
   "outputs": [],
   "source": [
    "import pandas as pd"
   ]
  },
  {
   "cell_type": "code",
   "execution_count": null,
   "metadata": {},
   "outputs": [],
   "source": [
    "#%matplotlib notebook"
   ]
  },
  {
   "cell_type": "markdown",
   "metadata": {},
   "source": [
    " # Video i/p "
   ]
  },
  {
   "cell_type": "code",
   "execution_count": null,
   "metadata": {},
   "outputs": [],
   "source": [
    "#cap = cv2.VideoCapture(\"C:/Users/shrin/Documents/Abhilash/Export_2019-12-18_181852/0 - 2019-12-18 17-56-37-496.mov\")\n",
    "#cap = cv2.VideoCapture(\"C:/Users/shrin/Documents/Abhilash/New Slab/Export_2019-12-19_124059/0 - 2019-12-19 07-01-00-394.mov\")\n",
    "#cap = cv2.VideoCapture(\"C:/Users/shrin/Documents/Abhilash/tata steel/day-4 data/0 - 2019-12-19 19-35-05-273.mov\")\n",
    "\n",
    "cap = cv2.VideoCapture(\"C:/Users/shrin/Documents/Abhilash/tata steel/data from tata -14_v4/0 - 2020-02-11 18-51-36-155.mov\")\n",
    "#cap = cv2.VideoCapture(\"C:/Users/shrin/Downloads/VID-20200106-WA0003.mp4\")\n",
    "\n",
    "#cap = cv2.VideoCapture(\"C:/Users/shrin/Desktop/openpose-master/openpose-master/build/examples/tutorial_api_python/abhilash.mov\")\n",
    "totalFrames = cap.get(cv2.CAP_PROP_FRAME_COUNT)\n",
    "totalFrames"
   ]
  },
  {
   "cell_type": "code",
   "execution_count": null,
   "metadata": {},
   "outputs": [],
   "source": [
    "cap.set(cv2.CAP_PROP_POS_FRAMES,0)"
   ]
  },
  {
   "cell_type": "code",
   "execution_count": null,
   "metadata": {},
   "outputs": [],
   "source": [
    "%matplotlib notebook"
   ]
  },
  {
   "cell_type": "code",
   "execution_count": null,
   "metadata": {},
   "outputs": [],
   "source": [
    "bg = cv2.imread(\"4mp_v1.jpg\",0)"
   ]
  },
  {
   "cell_type": "code",
   "execution_count": null,
   "metadata": {
    "scrolled": true
   },
   "outputs": [],
   "source": [
    "ret, frame = cap.read()\n",
    "#imgIP = \"refImage.jpg\"\n",
    "#frame = cv2.imread(imgIP)\n",
    "#frame = cv2.cvtColor(frame,cv2.COLOR_BGR2RGB)\n",
    "#test = frame.copy()\n",
    "print(frame.shape)\n",
    "#plt.figure(figsize=(10,12))\n",
    "#resized = cv2.resize(frame,(frame.shape[1]*2,frame.shape[0]*2), interpolation=cv2.INTER_LINEAR)\n",
    "#print(frame.shape)\n",
    "#frame = cv2.resize(frame,(frame.shape[1]*2,frame.shape[0]*2), cv2.INTER_AREA)\n",
    "print(frame.shape)\n",
    "plt.imshow(frame)"
   ]
  },
  {
   "cell_type": "code",
   "execution_count": null,
   "metadata": {},
   "outputs": [],
   "source": [
    "420,1190,2041,1190"
   ]
  },
  {
   "cell_type": "code",
   "execution_count": null,
   "metadata": {},
   "outputs": [],
   "source": [
    "#cv2.imwrite(\"4mp_v1.jpg\",frame)"
   ]
  },
  {
   "cell_type": "code",
   "execution_count": null,
   "metadata": {},
   "outputs": [],
   "source": [
    "#frame[:,2122:] = 0 \n",
    "frame[:,1850:] = 0"
   ]
  },
  {
   "cell_type": "code",
   "execution_count": null,
   "metadata": {},
   "outputs": [],
   "source": [
    "plt.imshow(frame)"
   ]
  },
  {
   "cell_type": "code",
   "execution_count": null,
   "metadata": {},
   "outputs": [],
   "source": [
    "[358,1200,1958,1200]\n",
    "\n",
    "[308,888,1455,888]\n",
    "#%matplotlib notebook"
   ]
  },
  {
   "cell_type": "code",
   "execution_count": null,
   "metadata": {},
   "outputs": [],
   "source": [
    "#cv2.imwrite(\"toTatat1.jpg\",frame)"
   ]
  },
  {
   "cell_type": "code",
   "execution_count": null,
   "metadata": {},
   "outputs": [],
   "source": [
    "%matplotlib notebook"
   ]
  },
  {
   "cell_type": "markdown",
   "metadata": {},
   "source": [
    "# pixels Per Metric"
   ]
  },
  {
   "cell_type": "code",
   "execution_count": null,
   "metadata": {},
   "outputs": [],
   "source": [
    "#alar = [682,708,1095,685]\n",
    "#alar = [510-9,800,1126-9,800]\n",
    "#alar = [308,651,1203,651]\n",
    "#alar = [257,647,1390,647]\n",
    "#alar = [162,647,1548,647]\n",
    "#alar = [325,1259,3111,1259] # 2x\n",
    "#alar = [176,771,1330,771]\n",
    "#alar = [313,888,1455 - 20,888]\n",
    "\n",
    "#alar = [313,888-100,1455 - 20,888-100]\n",
    "\n",
    "\n",
    "\n",
    "#alar = [358,1200 - 150 +20 ,1958,1200 - 150 +20  ] # 4mp\n",
    "\n",
    "alar = [420,1200 - 150 +20,2041,1200 - 150 +20]\n",
    "\n",
    "leftEdge = 1200 - 150 +20 -100"
   ]
  },
  {
   "cell_type": "code",
   "execution_count": null,
   "metadata": {
    "scrolled": false
   },
   "outputs": [],
   "source": [
    "#drawLine = frame.copy()\n",
    "\n",
    "dB = dist.euclidean(alar[:2],alar[-2:])\n",
    "pixelsPerMetric = dB / 1690\n",
    "print(1/pixelsPerMetric,\"<<<<<-----------------MM per Pix\")\n"
   ]
  },
  {
   "cell_type": "code",
   "execution_count": null,
   "metadata": {},
   "outputs": [],
   "source": [
    "img = cv2.cvtColor(frame.copy(),cv2.COLOR_BGR2RGB)\n",
    "r,g,b = cv2.split(img.copy()) \n",
    "hsv = cv2.cvtColor(img.copy(),cv2.COLOR_RGB2HSV)\n",
    "hh,s,v = cv2.split(hsv)\n",
    "yuv = cv2.cvtColor(img.copy(),cv2.COLOR_RGB2YUV)\n",
    "y,u,vb = cv2.split(yuv)\n",
    "\n",
    "\n",
    "hls = cv2.cvtColor(img.copy(),cv2.COLOR_RGB2HLS)\n",
    "h,l,ss = cv2.split(hls)\n",
    "\n",
    "#randv = np.dstack((r,v),)\n",
    "randv = cv2.addWeighted(y, -1.56, r, 2.8, 0.0)\n",
    "print(randv.shape)\n",
    "\n",
    "dst = cv2.addWeighted(y, 0, randv, 1.3, 0.0)\n",
    "dst = cv2.line(dst,(alar[0],alar[1]),(alar[2],alar[3]),255,13)\n",
    "#dst = cv2.addWeighted(v, .02, r, 1.6, 0.0)\n",
    "print(dst.shape,\"<- - dst\")\n",
    "plt.imshow(r)"
   ]
  },
  {
   "cell_type": "code",
   "execution_count": null,
   "metadata": {},
   "outputs": [],
   "source": [
    "%matplotlib notebook"
   ]
  },
  {
   "cell_type": "code",
   "execution_count": null,
   "metadata": {},
   "outputs": [],
   "source": [
    "print(time.localtime(0))"
   ]
  },
  {
   "cell_type": "code",
   "execution_count": null,
   "metadata": {},
   "outputs": [],
   "source": [
    "import csv"
   ]
  },
  {
   "cell_type": "code",
   "execution_count": null,
   "metadata": {},
   "outputs": [],
   "source": [
    "leftCor = []\n",
    "rightCor = []\n",
    "save = []\n",
    "while(True):\n",
    "    ret, img = cap.read()\n",
    "    \n",
    "    #img = cv2.resize(img,(img.shape[1] ,img.shape[0] ), cv2.INTER_AREA)\n",
    "    \n",
    "     \n",
    "    \n",
    "    gray = cv2.cvtColor(img,cv2.COLOR_BGR2GRAY)\n",
    "    # BG SUB\n",
    "    bgsub = cv2.absdiff(gray,bg)\n",
    "    \n",
    "    b,g,r = cv2.split(img.copy()) \n",
    "    #hsv = cv2.cvtColor(img.copy(),cv2.COLOR_RGB2HSV)\n",
    "    #h,s,v = cv2.split(hsv)\n",
    "    yuv = cv2.cvtColor(img.copy(),cv2.COLOR_BGR2YUV)\n",
    "    y,u,vb = cv2.split(yuv)\n",
    "    \n",
    "    randv = cv2.addWeighted(y, .5, b, 1.9, 0.0)  #good 220\n",
    "    #print(randv.shape)\n",
    "    \n",
    "    #randv = cv2.addWeighted(y, -1.56 , r, 2.9, 0.0)\n",
    "    dst = cv2.addWeighted(y, 0, randv, 1.3, 0.0)\n",
    "    #dst = cv2.addWeighted(v, .02, r, 1.251, 0.0) # threh 190\n",
    "    \n",
    "    blur = cv2.GaussianBlur(dst,(3,3),0)\n",
    "    \n",
    "    _,thresh = cv2.threshold(blur,220,255,cv2.THRESH_BINARY )\n",
    "    thresh[:,2288:] = 0\n",
    "    #thresh[:,1850:] = 0\n",
    "    #thresh[:,:200] = 0\n",
    "    \n",
    "    \n",
    "    val = alar[1]\n",
    "    \n",
    "    \n",
    "    #img = cv2.line(img ,(alar[0],alar[1]),(alar[2],alar[3]),(255,5,0),3)\n",
    "    if np.count_nonzero(thresh[val,]) >= 500:\n",
    "        leftSide = np.nonzero(thresh[leftEdge,])[0][0] -45\n",
    "        rightSide = np.nonzero(thresh[val,])[0][-1] \n",
    "        leftCor.append(leftSide)\n",
    "        rightCor.append(rightSide)\n",
    "        #print(np.count_nonzero(thresh[816,]))\n",
    "        mmPpix = ((1/pixelsPerMetric)* (rightSide - leftSide)) \n",
    "        print(mmPpix,\",_______________________________\")\n",
    "        print(\"leftSide = \",leftSide,\"rightSide = \", rightSide)\n",
    "        print(blur[val,][leftSide :rightSide ])\n",
    "        \n",
    "        img  = cv2.line(img ,(leftSide ,alar[1]),(rightSide ,alar[3]),(255),2)\n",
    "        \n",
    "        #img = cv2.line(img ,(alar[0],alar[1]),(alar[2],alar[3]),(255,5,0),3)\n",
    "        \n",
    "        img = cv2.circle(img,(leftSide,alar[1]) , 1, 0, 5)\n",
    "        img = cv2.circle(img,(rightSide,alar[3]) , 1, 0, 5)\n",
    "        \n",
    "        font = cv2.FONT_HERSHEY_SIMPLEX\n",
    "        img = cv2.putText(img,\"{} mm\".format(mmPpix),(0,330), font, 1.2 , (200,255,155), 2 , cv2.LINE_AA)\n",
    "        #mmPpix_time = pd.DataFrame([[int(mmPpix),time.asctime( time.localtime(time.time()))]])\n",
    "        \n",
    "        #mmPpix_time.to_csv('testData.csv', mode='a+', header=False,index=False)\n",
    "        '''with open('testData.csv', 'a+', newline='') as file:\n",
    "            writer = csv.writer(file)\n",
    "            writer.writerows(mmPpix_time)'''\n",
    "        \n",
    "    \n",
    "    #img1 = cv2.resize(img ,(int(1920),int(1080)))\n",
    "    #img2 = cv2.resize(dstCnt,(500,300))\n",
    "    #img3 = cv2.resize(thresh,(500,300))\n",
    "    #save.append(img1)\n",
    "    #img = cv2.cvtColor(img,cv2.COLOR_RGB2BGR)\n",
    "    img1 = cv2.resize(img ,(int(1920),int(1080)))\n",
    "    thresh1 = cv2.resize(thresh ,(int(1920),int(1080)))\n",
    "    bgsub1 = cv2.resize(bgsub ,(int(1920),int(1080)))\n",
    "    cv2.imshow('img ',thresh1)\n",
    "    cv2.imshow('imgzzz ',img1)\n",
    "    cv2.imshow('img___ ',bgsub1)\n",
    "    if cv2.waitKey(1) & 0xFF == ord('q'):\n",
    "        break\n",
    "\n",
    "# When everything done, release the capture\n",
    "cap.release()\n",
    "cv2.destroyAllWindows()"
   ]
  },
  {
   "cell_type": "code",
   "execution_count": null,
   "metadata": {},
   "outputs": [],
   "source": [
    "break"
   ]
  },
  {
   "cell_type": "code",
   "execution_count": null,
   "metadata": {},
   "outputs": [],
   "source": [
    "cv2.__version__"
   ]
  },
  {
   "cell_type": "code",
   "execution_count": null,
   "metadata": {},
   "outputs": [],
   "source": [
    "import scipy\n"
   ]
  },
  {
   "cell_type": "code",
   "execution_count": null,
   "metadata": {},
   "outputs": [],
   "source": [
    "mmPpix_time"
   ]
  },
  {
   "cell_type": "code",
   "execution_count": null,
   "metadata": {},
   "outputs": [],
   "source": [
    "scipy.__version__"
   ]
  },
  {
   "cell_type": "code",
   "execution_count": null,
   "metadata": {
    "scrolled": true
   },
   "outputs": [],
   "source": [
    "print(len(np.nonzero(thresh[val,])[0]))"
   ]
  },
  {
   "cell_type": "code",
   "execution_count": null,
   "metadata": {},
   "outputs": [],
   "source": [
    "a = pd.DataFrame(np.nonzero(thresh[val,])[0])"
   ]
  },
  {
   "cell_type": "code",
   "execution_count": null,
   "metadata": {},
   "outputs": [],
   "source": [
    "time.today()"
   ]
  },
  {
   "cell_type": "code",
   "execution_count": null,
   "metadata": {},
   "outputs": [],
   "source": [
    "from datetime import date\n",
    "date.ctime()"
   ]
  },
  {
   "cell_type": "code",
   "execution_count": null,
   "metadata": {},
   "outputs": [],
   "source": [
    "x = time.asctime( time.localtime(time.time()) )"
   ]
  },
  {
   "cell_type": "code",
   "execution_count": null,
   "metadata": {},
   "outputs": [],
   "source": [
    "time.asctime( time.localtime(time.time()) ) "
   ]
  },
  {
   "cell_type": "code",
   "execution_count": null,
   "metadata": {},
   "outputs": [],
   "source": [
    "int(mmPpix)"
   ]
  },
  {
   "cell_type": "code",
   "execution_count": null,
   "metadata": {},
   "outputs": [],
   "source": [
    "int(x[-13:-11])"
   ]
  },
  {
   "cell_type": "code",
   "execution_count": null,
   "metadata": {},
   "outputs": [],
   "source": [
    "x[-10:-8]"
   ]
  },
  {
   "cell_type": "code",
   "execution_count": null,
   "metadata": {},
   "outputs": [],
   "source": []
  }
 ],
 "metadata": {
  "kernelspec": {
   "display_name": "Python 3",
   "language": "python",
   "name": "python3"
  },
  "language_info": {
   "codemirror_mode": {
    "name": "ipython",
    "version": 3
   },
   "file_extension": ".py",
   "mimetype": "text/x-python",
   "name": "python",
   "nbconvert_exporter": "python",
   "pygments_lexer": "ipython3",
   "version": "3.7.5"
  }
 },
 "nbformat": 4,
 "nbformat_minor": 2
}
