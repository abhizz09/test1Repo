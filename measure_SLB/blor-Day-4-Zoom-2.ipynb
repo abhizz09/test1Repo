{
 "cells": [
  {
   "cell_type": "code",
   "execution_count": null,
   "metadata": {},
   "outputs": [],
   "source": [
    "import cv2\n",
    "import numpy as np\n",
    "import matplotlib.pyplot as plt\n",
    "import os\n",
    "import time\n",
    "%matplotlib inline\n",
    "from imutils.video import count_frames\n",
    "from scipy.spatial import distance as dist"
   ]
  },
  {
   "cell_type": "code",
   "execution_count": null,
   "metadata": {},
   "outputs": [],
   "source": [
    "#%matplotlib notebook"
   ]
  },
  {
   "cell_type": "markdown",
   "metadata": {},
   "source": [
    " # Video i/p "
   ]
  },
  {
   "cell_type": "code",
   "execution_count": null,
   "metadata": {},
   "outputs": [],
   "source": [
    "#cap = cv2.VideoCapture(\"C:/Users/shrin/Documents/Abhilash/Export_2019-12-18_181852/0 - 2019-12-18 17-56-37-496.mov\")\n",
    "#cap = cv2.VideoCapture(\"C:/Users/shrin/Documents/Abhilash/New Slab/Export_2019-12-19_124059/0 - 2019-12-19 07-01-00-394.mov\")\n",
    "#cap = cv2.VideoCapture(\"C:/Users/shrin/Documents/Abhilash/tata steel/day-4 data/0 - 2019-12-19 19-35-05-273.mov\")\n",
    "\n",
    "cap = cv2.VideoCapture(\"C:/Users/shrin/Documents/Abhilash/tata steel/data from tata -11(25-shutter)/0 - 2020-01-17 18-46-00-567.mov\")\n",
    "#cap = cv2.VideoCapture(\"C:/Users/shrin/Downloads/VID-20200106-WA0003.mp4\")\n",
    "\n",
    "#cap = cv2.VideoCapture(\"C:/Users/shrin/Desktop/openpose-master/openpose-master/build/examples/tutorial_api_python/abhilash.mov\")\n",
    "totalFrames = cap.get(cv2.CAP_PROP_FRAME_COUNT)\n",
    "totalFrames"
   ]
  },
  {
   "cell_type": "code",
   "execution_count": null,
   "metadata": {},
   "outputs": [],
   "source": [
    "cap.set(cv2.CAP_PROP_POS_FRAMES,0)"
   ]
  },
  {
   "cell_type": "code",
   "execution_count": null,
   "metadata": {},
   "outputs": [],
   "source": [
    "#%matplotlib notebook"
   ]
  },
  {
   "cell_type": "code",
   "execution_count": null,
   "metadata": {},
   "outputs": [],
   "source": []
  },
  {
   "cell_type": "code",
   "execution_count": null,
   "metadata": {
    "scrolled": true
   },
   "outputs": [],
   "source": [
    "ret, frame = cap.read()\n",
    "imgIP = \"refImage.jpg\"\n",
    "#frame = cv2.imread(imgIP)\n",
    "#frame = cv2.cvtColor(frame,cv2.COLOR_BGR2RGB)\n",
    "#test = frame.copy()\n",
    "print(frame.shape)\n",
    "#plt.figure(figsize=(10,12))\n",
    "#resized = cv2.resize(frame,(frame.shape[1]*2,frame.shape[0]*2), interpolation=cv2.INTER_LINEAR)\n",
    "#print(frame.shape)\n",
    "#frame = cv2.resize(frame,(frame.shape[1]*2,frame.shape[0]*2), cv2.INTER_AREA)\n",
    "print(frame.shape)\n",
    "plt.imshow(frame)"
   ]
  },
  {
   "cell_type": "code",
   "execution_count": null,
   "metadata": {},
   "outputs": [],
   "source": []
  },
  {
   "cell_type": "code",
   "execution_count": null,
   "metadata": {},
   "outputs": [],
   "source": [
    "#cv2.imwrite(\"toTatat1.jpg\",frame)"
   ]
  },
  {
   "cell_type": "code",
   "execution_count": null,
   "metadata": {},
   "outputs": [],
   "source": [
    "#%matplotlib notebook"
   ]
  },
  {
   "cell_type": "markdown",
   "metadata": {},
   "source": [
    "# pixels Per Metric"
   ]
  },
  {
   "cell_type": "code",
   "execution_count": null,
   "metadata": {},
   "outputs": [],
   "source": [
    "#alar = [682,708,1095,685]\n",
    "#alar = [510-9,800,1126-9,800]\n",
    "#alar = [308,651,1203,651]\n",
    "alar = [257,647,1390,647]\n",
    "#alar = [162,647,1548,647]\n",
    "#alar = [325,1259,3111,1259]"
   ]
  },
  {
   "cell_type": "code",
   "execution_count": null,
   "metadata": {
    "scrolled": false
   },
   "outputs": [],
   "source": [
    "#drawLine = frame.copy()\n",
    "\n",
    "dB = dist.euclidean(alar[:2],alar[-2:])\n",
    "pixelsPerMetric = dB / 1690\n",
    "print(1/pixelsPerMetric,\"<<<<<-----------------MM per Pix\")\n"
   ]
  },
  {
   "cell_type": "code",
   "execution_count": null,
   "metadata": {},
   "outputs": [],
   "source": [
    "img = cv2.cvtColor(frame.copy(),cv2.COLOR_BGR2RGB)\n",
    "r,g,b = cv2.split(img.copy()) \n",
    "hsv = cv2.cvtColor(img.copy(),cv2.COLOR_RGB2HSV)\n",
    "h,s,v = cv2.split(hsv)\n",
    "yuv = cv2.cvtColor(img.copy(),cv2.COLOR_RGB2YUV)\n",
    "y,u,vb = cv2.split(yuv)\n",
    "\n",
    "\n",
    "hls = cv2.cvtColor(img.copy(),cv2.COLOR_RGB2HLS)\n",
    "h,l,ss = cv2.split(hls)\n",
    "\n",
    "dst = cv2.addWeighted(y, 0.9, r, .61, 0.0)\n",
    "dst = cv2.line(frame,(alar[0],alar[1]),(alar[2],alar[3]),255,3)\n",
    "#dst = cv2.addWeighted(v, .02, r, 1.6, 0.0)\n",
    "\n",
    "plt.imshow(dst)"
   ]
  },
  {
   "cell_type": "code",
   "execution_count": null,
   "metadata": {},
   "outputs": [],
   "source": [
    "#%matplotlib notebook"
   ]
  },
  {
   "cell_type": "code",
   "execution_count": null,
   "metadata": {},
   "outputs": [],
   "source": [
    "leftCor = []\n",
    "rightCor = []\n",
    "while(True):\n",
    "    ret, img = cap.read()\n",
    "    \n",
    "    #img = cv2.resize(img,(img.shape[1]*2,img.shape[0]*2), cv2.INTER_AREA)\n",
    "    \n",
    "    img = cv2.cvtColor(img,cv2.COLOR_BGR2RGB)\n",
    "    r,g,b = cv2.split(img.copy()) \n",
    "    hsv = cv2.cvtColor(img.copy(),cv2.COLOR_RGB2HSV)\n",
    "    h,s,v = cv2.split(hsv)\n",
    "    yuv = cv2.cvtColor(img.copy(),cv2.COLOR_RGB2YUV)\n",
    "    y,u,vb = cv2.split(yuv)\n",
    "    \n",
    "    #dst = cv2.addWeighted(y, .75, r, .601, 0.0)\n",
    "    #dst = cv2.addWeighted(y, 2, r, 1.8 , 0.0)\n",
    "    \n",
    "    \n",
    "    randv = cv2.addWeighted(y, .5, r, 1.5, 0.0)\n",
    "    #print(randv.shape)\n",
    "\n",
    "    dst = cv2.addWeighted(y, 0, randv, 1.3, 0.0)\n",
    "    \n",
    "    \n",
    "    \n",
    "    #canny = imutils.auto_canny(dst)\n",
    "\n",
    "    \n",
    "    #dst = cv2.addWeighted(v, .02, r, 1.251, 0.0)\n",
    "    \n",
    "    blur = cv2.GaussianBlur(dst,(3,3),0)\n",
    "    \n",
    "    _,thresh = cv2.threshold(blur,185,255,cv2.THRESH_BINARY)\n",
    "    \n",
    "    #img = imutils.auto_canny(thresh)\n",
    "    \n",
    "    \n",
    "    #_,thresh = cv2.threshold(blur,170,255,cv2.THRESH_BINARY) \n",
    "    #thresh = cv2.adaptiveThreshold(dst.copy(),255,cv2.ADAPTIVE_THRESH_GAUSSIAN_C,cv2.THRESH_BINARY,501,-13)\n",
    "\n",
    "    \n",
    "    _ , contours, hierarchy =   cv2.findContours(thresh.copy(),cv2.RETR_EXTERNAL,cv2.CHAIN_APPROX_SIMPLE)\n",
    "    cnts = sorted(contours, key = cv2.contourArea,reverse= True)\n",
    "    # cntr Order\n",
    "    ordr = 0\n",
    "    epsilon = 0.0001*cv2.arcLength(cnts[0],True)\n",
    "    approx = cv2.approxPolyDP(cnts[0],epsilon,True)\n",
    "    dstCnt = cv2.drawContours(img.copy(),[approx],ordr,(255),2)\n",
    "    val = 816\n",
    "    \n",
    "    \n",
    "    #img = cv2.line(img ,(alar[0],alar[1]),(alar[2],alar[3]),(255,5,0),3)\n",
    "    if np.count_nonzero(thresh[val,]) >= 1000:\n",
    "        leftSide = np.nonzero(thresh[val,])[0][0] \n",
    "        rightSide = np.nonzero(thresh[val,])[0][-1] + 15\n",
    "        leftCor.append(leftSide)\n",
    "        rightCor.append(rightSide)\n",
    "        #print(np.count_nonzero(thresh[816,]))\n",
    "        mmPpix = ((1/pixelsPerMetric)* (rightSide - leftSide)) \n",
    "        print(mmPpix)\n",
    "        print(\"leftSide = \",leftSide,\"rightSide = \", rightSide)\n",
    "        print(blur[val,][leftSide :rightSide ])\n",
    "        \n",
    "        img  = cv2.line(img ,(np.nonzero(thresh[val,])[0][0] ,alar[1]),((np.nonzero(thresh[val,])[0][-1]) + 15,alar[3]),(255),2)\n",
    "        \n",
    "        #img = cv2.line(img ,(alar[0],alar[1]),(alar[2],alar[3]),(255,5,0),3)\n",
    "        \n",
    "        img = cv2.circle(img,(leftSide,alar[1]) , 1, 0, 5)\n",
    "        img = cv2.circle(img,(rightSide,alar[3]) , 1, 0, 5)\n",
    "        \n",
    "        font = cv2.FONT_HERSHEY_SIMPLEX\n",
    "        img = cv2.putText(img,\"{} mm\".format(mmPpix),(0,330), font, 1.2, (200,255,155), 2, cv2.LINE_AA)\n",
    "\n",
    "    \n",
    "    img1 = cv2.resize(img ,(900,500))\n",
    "    img2 = cv2.resize(dstCnt,(500,300))\n",
    "    img3 = cv2.resize(thresh,(500,300))\n",
    "    cv2.imshow('img ',img)\n",
    "    #cv2.imshow('img ',img1)\n",
    "    #cv2.imshow('img ',img3)\n",
    "    if cv2.waitKey(1) & 0xFF == ord('q'):\n",
    "        break\n",
    "\n",
    "# When everything done, release the capture\n",
    "cap.release()\n",
    "cv2.destroyAllWindows()"
   ]
  },
  {
   "cell_type": "code",
   "execution_count": null,
   "metadata": {},
   "outputs": [],
   "source": [
    "leftCor = np.array(leftCor)\n",
    "rightCor = np.array(rightCor)"
   ]
  },
  {
   "cell_type": "code",
   "execution_count": null,
   "metadata": {},
   "outputs": [],
   "source": [
    "leftCor.max()"
   ]
  },
  {
   "cell_type": "code",
   "execution_count": null,
   "metadata": {},
   "outputs": [],
   "source": [
    "#%matplotlib notebook"
   ]
  },
  {
   "cell_type": "code",
   "execution_count": null,
   "metadata": {},
   "outputs": [],
   "source": [
    "plt.imshow(dst)"
   ]
  },
  {
   "cell_type": "markdown",
   "metadata": {},
   "source": [
    "# absDiff"
   ]
  },
  {
   "cell_type": "code",
   "execution_count": null,
   "metadata": {},
   "outputs": [],
   "source": [
    "backSub = cv2.createBackgroundSubtractorMOG2(30, 40, False)\n"
   ]
  },
  {
   "cell_type": "code",
   "execution_count": null,
   "metadata": {
    "scrolled": true
   },
   "outputs": [],
   "source": [
    "leftCor = []\n",
    "rightCor = []\n",
    "while(True):\n",
    "    ret, img = cap.read()\n",
    "    \n",
    "    #img = cv2.resize(img,(img.shape[1]*2,img.shape[0]*2), cv2.INTER_AREA)\n",
    "    \n",
    "    img = cv2.cvtColor(img,cv2.COLOR_BGR2RGB)\n",
    "    r,g,b = cv2.split(img.copy()) \n",
    "    hsv = cv2.cvtColor(img.copy(),cv2.COLOR_RGB2HSV)\n",
    "    h,s,v = cv2.split(hsv)\n",
    "    yuv = cv2.cvtColor(img.copy(),cv2.COLOR_RGB2YUV)\n",
    "    y,u,vb = cv2.split(yuv)\n",
    "    \n",
    "    #dst = cv2.addWeighted(y, .75, r, .601, 0.0)\n",
    "    dst = cv2.addWeighted(y, 2, r, 1.8 , 0.0)\n",
    "    \n",
    "    #canny = imutils.auto_canny(dst)\n",
    "\n",
    "    \n",
    "    #dst = cv2.addWeighted(v, .02, r, 1.251, 0.0)\n",
    "    \n",
    "    blur = cv2.GaussianBlur(dst,(3,3),0)\n",
    "    fgMask = backSub.apply(blur)\n",
    "    _,thresh = cv2.threshold(blur,185,255,cv2.THRESH_BINARY)\n",
    "    \n",
    "    #img = imutils.auto_canny(thresh)\n",
    "    \n",
    "    \n",
    "    #_,thresh = cv2.threshold(blur,170,255,cv2.THRESH_BINARY) \n",
    "    #thresh = cv2.adaptiveThreshold(dst.copy(),255,cv2.ADAPTIVE_THRESH_GAUSSIAN_C,cv2.THRESH_BINARY,501,-13)\n",
    "\n",
    "    \n",
    "    _ , contours, hierarchy =   cv2.findContours(thresh.copy(),cv2.RETR_EXTERNAL,cv2.CHAIN_APPROX_SIMPLE)\n",
    "    cnts = sorted(contours, key = cv2.contourArea,reverse= True)\n",
    "    # cntr Order\n",
    "    ordr = 0\n",
    "    epsilon = 0.0001*cv2.arcLength(cnts[0],True)\n",
    "    approx = cv2.approxPolyDP(cnts[0],epsilon,True)\n",
    "    dstCnt = cv2.drawContours(img.copy(),[approx],ordr,(255),2)\n",
    "    val = 816\n",
    "    \n",
    "    \n",
    "    #img = cv2.line(img ,(alar[0],alar[1]),(alar[2],alar[3]),(255,5,0),3)\n",
    "    if np.count_nonzero(thresh[val,]) >= 1000:\n",
    "        leftSide = np.nonzero(thresh[val,])[0][0] \n",
    "        rightSide = np.nonzero(thresh[val,])[0][-1] + 15\n",
    "        leftCor.append(leftSide)\n",
    "        rightCor.append(rightSide)\n",
    "        #print(np.count_nonzero(thresh[816,]))\n",
    "        mmPpix = ((1/pixelsPerMetric)* (rightSide - leftSide)) \n",
    "        print(mmPpix)\n",
    "        print(\"leftSide = \",leftSide,\"rightSide = \", rightSide)\n",
    "        print(blur[val,][leftSide :rightSide ])\n",
    "        \n",
    "        img  = cv2.line(img ,(np.nonzero(thresh[val,])[0][0] ,alar[1]),((np.nonzero(thresh[val,])[0][-1]) + 15,alar[3]),(255),2)\n",
    "        \n",
    "        #img = cv2.line(img ,(alar[0],alar[1]),(alar[2],alar[3]),(255,5,0),3)\n",
    "        \n",
    "        img = cv2.circle(img,(leftSide,alar[1]) , 1, 0, 5)\n",
    "        img = cv2.circle(img,(rightSide,alar[3]) , 1, 0, 5)\n",
    "        \n",
    "        font = cv2.FONT_HERSHEY_SIMPLEX\n",
    "        img = cv2.putText(img,\"{} mm\".format(mmPpix),(0,330), font, 1.2, (200,255,155), 2, cv2.LINE_AA)\n",
    "\n",
    "    \n",
    "    img1 = cv2.resize(img ,(900,500))\n",
    "    img2 = cv2.resize(dstCnt,(500,300))\n",
    "    img3 = cv2.resize(thresh,(500,300))\n",
    "    cv2.imshow('img ',img)\n",
    "    #cv2.imshow('img ',img1)\n",
    "    #cv2.imshow('img ',img3)\n",
    "    cv2.imshow(\"bos\",fgMask)\n",
    "    if cv2.waitKey(1) & 0xFF == ord('q'):\n",
    "        break\n",
    "\n",
    "# When everything done, release the capture\n",
    "cap.release()\n",
    "cv2.destroyAllWindows()"
   ]
  },
  {
   "cell_type": "code",
   "execution_count": null,
   "metadata": {},
   "outputs": [],
   "source": []
  },
  {
   "cell_type": "code",
   "execution_count": null,
   "metadata": {},
   "outputs": [],
   "source": []
  }
 ],
 "metadata": {
  "kernelspec": {
   "display_name": "Python 3",
   "language": "python",
   "name": "python3"
  },
  "language_info": {
   "codemirror_mode": {
    "name": "ipython",
    "version": 3
   },
   "file_extension": ".py",
   "mimetype": "text/x-python",
   "name": "python",
   "nbconvert_exporter": "python",
   "pygments_lexer": "ipython3",
   "version": "3.7.5"
  }
 },
 "nbformat": 4,
 "nbformat_minor": 2
}
