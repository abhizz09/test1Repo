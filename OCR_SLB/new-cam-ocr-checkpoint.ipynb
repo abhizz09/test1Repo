{
 "cells": [
  {
   "cell_type": "code",
   "execution_count": 1,
   "metadata": {},
   "outputs": [],
   "source": [
    "import cv2\n",
    "import pytesseract as tess\n",
    "import numpy as np\n",
    "import matplotlib.pyplot as plt\n",
    "import time\n",
    "from imutils import contours as sortCnt"
   ]
  },
  {
   "cell_type": "code",
   "execution_count": 2,
   "metadata": {},
   "outputs": [
    {
     "data": {
      "text/plain": [
       "154934.0"
      ]
     },
     "execution_count": 2,
     "metadata": {},
     "output_type": "execute_result"
    }
   ],
   "source": [
    "cap = cv2.VideoCapture(\"new_cam_1/Export_2020-02-27_182016/0 - 2020-02-27 16-35-00-475.mov\")\n",
    "totalFrames = cap.get(cv2.CAP_PROP_FRAME_COUNT)\n",
    "totalFrames"
   ]
  },
  {
   "cell_type": "code",
   "execution_count": 3,
   "metadata": {},
   "outputs": [],
   "source": [
    "slab = 100+500+1000+500+100-50-15-10\n",
    "slab1 = 31080"
   ]
  },
  {
   "cell_type": "code",
   "execution_count": 29,
   "metadata": {},
   "outputs": [],
   "source": [
    "emptySlab = 100+500+50+50+50+5"
   ]
  },
  {
   "cell_type": "code",
   "execution_count": 30,
   "metadata": {},
   "outputs": [
    {
     "data": {
      "text/plain": [
       "True"
      ]
     },
     "execution_count": 30,
     "metadata": {},
     "output_type": "execute_result"
    }
   ],
   "source": [
    "cap.set(cv2.CAP_PROP_POS_FRAMES,slab1)"
   ]
  },
  {
   "cell_type": "code",
   "execution_count": 31,
   "metadata": {},
   "outputs": [],
   "source": [
    "#%matplotlib notebook"
   ]
  },
  {
   "cell_type": "code",
   "execution_count": 32,
   "metadata": {},
   "outputs": [
    {
     "name": "stdout",
     "output_type": "stream",
     "text": [
      "(1080, 1920, 3)\n"
     ]
    },
    {
     "data": {
      "text/plain": [
       "<matplotlib.image.AxesImage at 0x1e89c520848>"
      ]
     },
     "execution_count": 32,
     "metadata": {},
     "output_type": "execute_result"
    }
   ],
   "source": [
    "ret, frame = cap.read()\n",
    "#frame = cv2.cvtColor(frame,cv2.COLOR_BGR2RGB)\n",
    "print(frame.shape)\n",
    "plt.imshow(frame)"
   ]
  },
  {
   "cell_type": "code",
   "execution_count": 33,
   "metadata": {},
   "outputs": [],
   "source": [
    "low = 920\n",
    "up = 750"
   ]
  },
  {
   "cell_type": "code",
   "execution_count": 34,
   "metadata": {},
   "outputs": [],
   "source": [
    "#%matplotlib notebook"
   ]
  },
  {
   "cell_type": "code",
   "execution_count": 35,
   "metadata": {},
   "outputs": [
    {
     "data": {
      "text/plain": [
       "<matplotlib.image.AxesImage at 0x1e89c54adc8>"
      ]
     },
     "execution_count": 35,
     "metadata": {},
     "output_type": "execute_result"
    }
   ],
   "source": [
    "plt.imshow(frame[up-50:low+30])"
   ]
  },
  {
   "cell_type": "code",
   "execution_count": 36,
   "metadata": {},
   "outputs": [],
   "source": [
    "#cv2.imwrite(\"new_empty_slab.png\",frame[up-50:low+30])"
   ]
  },
  {
   "cell_type": "code",
   "execution_count": 37,
   "metadata": {},
   "outputs": [],
   "source": [
    "frameGray = cv2.cvtColor(frame,cv2.COLOR_BGR2GRAY)\n",
    "frameGray = frameGray[up-50:low+30]"
   ]
  },
  {
   "cell_type": "code",
   "execution_count": 38,
   "metadata": {
    "scrolled": true
   },
   "outputs": [
    {
     "data": {
      "text/plain": [
       "<matplotlib.image.AxesImage at 0x1e89c559c48>"
      ]
     },
     "execution_count": 38,
     "metadata": {},
     "output_type": "execute_result"
    }
   ],
   "source": [
    "noSlab = cv2.imread(\"new_empty_noSlab.jpg\",0)\n",
    "imgSub = cv2.bitwise_xor(frameGray,noSlab)\n",
    "_,x = cv2.threshold(imgSub,200,255,cv2.THRESH_BINARY )\n",
    "plt.imshow(x,\"gray\")"
   ]
  },
  {
   "cell_type": "code",
   "execution_count": 39,
   "metadata": {},
   "outputs": [
    {
     "data": {
      "text/plain": [
       "73313"
      ]
     },
     "execution_count": 39,
     "metadata": {},
     "output_type": "execute_result"
    }
   ],
   "source": [
    "cv2.countNonZero(x[0:100,:])"
   ]
  },
  {
   "cell_type": "code",
   "execution_count": 40,
   "metadata": {},
   "outputs": [
    {
     "data": {
      "text/plain": [
       "<matplotlib.image.AxesImage at 0x1e89c569cc8>"
      ]
     },
     "execution_count": 40,
     "metadata": {},
     "output_type": "execute_result"
    }
   ],
   "source": [
    "planeSlab = cv2.imread(\"new_empty_slab.png\",0)\n",
    "imgSub = cv2.bitwise_xor(frameGray,planeSlab)\n",
    "_,x = cv2.threshold(imgSub,200,255,cv2.THRESH_BINARY )\n",
    "plt.imshow(x,\"gray\")"
   ]
  },
  {
   "cell_type": "code",
   "execution_count": 41,
   "metadata": {},
   "outputs": [
    {
     "data": {
      "text/plain": [
       "35413"
      ]
     },
     "execution_count": 41,
     "metadata": {},
     "output_type": "execute_result"
    }
   ],
   "source": [
    "cv2.countNonZero(x[0:100,:])"
   ]
  },
  {
   "cell_type": "code",
   "execution_count": null,
   "metadata": {},
   "outputs": [],
   "source": []
  },
  {
   "cell_type": "code",
   "execution_count": null,
   "metadata": {},
   "outputs": [],
   "source": []
  },
  {
   "cell_type": "code",
   "execution_count": null,
   "metadata": {},
   "outputs": [],
   "source": []
  },
  {
   "cell_type": "code",
   "execution_count": null,
   "metadata": {},
   "outputs": [],
   "source": []
  },
  {
   "cell_type": "code",
   "execution_count": null,
   "metadata": {},
   "outputs": [],
   "source": []
  },
  {
   "cell_type": "code",
   "execution_count": null,
   "metadata": {},
   "outputs": [],
   "source": []
  },
  {
   "cell_type": "code",
   "execution_count": null,
   "metadata": {},
   "outputs": [],
   "source": []
  },
  {
   "cell_type": "code",
   "execution_count": null,
   "metadata": {},
   "outputs": [],
   "source": []
  },
  {
   "cell_type": "code",
   "execution_count": null,
   "metadata": {},
   "outputs": [],
   "source": []
  },
  {
   "cell_type": "code",
   "execution_count": null,
   "metadata": {},
   "outputs": [],
   "source": []
  },
  {
   "cell_type": "code",
   "execution_count": 42,
   "metadata": {},
   "outputs": [],
   "source": [
    "#%matplotlib notebook"
   ]
  },
  {
   "cell_type": "code",
   "execution_count": 43,
   "metadata": {},
   "outputs": [
    {
     "name": "stdout",
     "output_type": "stream",
     "text": [
      "A ---\n",
      "A\n",
      "\n",
      "3\n",
      "\n",
      "6\n",
      "\n",
      "\n",
      "C\n",
      "\n",
      "\n",
      "A ---\n",
      "A\n",
      "\n",
      "3\n",
      "\n",
      "6\n",
      "\n",
      "\n",
      "\n",
      "\n",
      "C\n",
      "A ---\n",
      "A\n",
      "\n",
      "3\n",
      "\n",
      "\n",
      "\n",
      "\n",
      "\n",
      "\n",
      "\n",
      "A ---\n",
      "A\n",
      "\n",
      "3\n",
      "\n",
      "6\n",
      "\n",
      "\n",
      "\n",
      "\n",
      "9\n",
      "A ---\n",
      "A\n",
      "\n",
      "3\n",
      "\n",
      "6\n",
      "\n",
      "\n",
      "\n",
      "\n",
      "9\n",
      "A ---\n",
      "\n",
      "Q\n",
      "3\n",
      "\n",
      "6\n",
      "\n",
      "\n",
      "C\n",
      "\n",
      "C\n",
      "A ---\n",
      "\n",
      "\n",
      "3\n",
      "\n",
      "6\n",
      "X\n",
      "\n",
      "C\n",
      "\n",
      "C\n",
      " ---\n",
      " ---\n",
      " ---\n",
      " ---\n",
      " ---\n",
      "A ---\n",
      "A\n",
      "2\n",
      "E\n",
      "\n",
      "6\n",
      "\n",
      "\n",
      "\n",
      "\n",
      "9\n",
      "A ---\n",
      "\n",
      "4\n",
      "3\n",
      "\n",
      "6\n",
      "2\n",
      "\n",
      "C\n",
      "\n",
      "9\n"
     ]
    }
   ],
   "source": [
    "noSlab = cv2.imread(\"new_empty_noSlab.jpg\",0)\n",
    "lookForOCR = False\n",
    "textOCR = None\n",
    "bBox = [[460,555],\n",
    "        [560,650],\n",
    "        [650,740],\n",
    "        [745,830],\n",
    "        [830,920],\n",
    "        [920,1014],\n",
    "        [1020,1088],\n",
    "        [1100,1191],\n",
    "        [1200,1273],\n",
    "        [1275,1365],]\n",
    "while True:\n",
    "    _,frame = cap.read()\n",
    "    frameGray = cv2.cvtColor(frame,cv2.COLOR_BGR2GRAY)\n",
    "    frameGray = frameGray[up-50:low+30]\n",
    "    imgSub = cv2.bitwise_xor(noSlab,frameGray)\n",
    "    b,g,r = cv2.split(frame.copy())\n",
    "    b = r[up-50:low+30]\n",
    "    _,x = cv2.threshold(b,180,255,cv2.THRESH_BINARY )\n",
    "    x = cv2.dilate(x,(3,3),iterations = 1)\n",
    "    _ , contours, hierarchy =   cv2.findContours(x.copy(),cv2.RETR_CCOMP,cv2.CHAIN_APPROX_SIMPLE)\n",
    "    font = cv2.FONT_HERSHEY_SIMPLEX\n",
    "    frame = cv2.putText(frame,\"{}\".format(len(contours)),(0,330), font, 2 , (200,255,155), 2 , cv2.LINE_AA)\n",
    "    cnts = sorted(contours, key = cv2.contourArea,reverse= True)[1:10]\n",
    "    try:\n",
    "        frame = cv2.putText(frame,\"{}mm\".format(cv2.contourArea(cnts[1])),(0,380), font, 2 , (200,255,155), 2 , cv2.LINE_AA)\n",
    "    except IndexError:\n",
    "        print(\"nocnt\")\n",
    "    \n",
    "    \n",
    "    \n",
    "    ocr = tess.image_to_string(x[45:200,460:460+100], lang = 'eng' , config=\"--psm 13 --oem 1 -c tessedit_char_whitelist=0123456789ABCDEFGHIJKLMNOPQRSTUVWXYZ\")\n",
    "    print(ocr,\"---\") \n",
    "    if ocr == \"A\":\n",
    "        st = 460\n",
    "        textOCR = \"\"\n",
    "        for i in bBox:\n",
    "            char = tess.image_to_string(x[45:200,i[0]:i[1]], lang = 'eng' , config=\"--psm 13 --oem 1 -c tessedit_char_whitelist=0123456789ABCDEFGHIJKLMNOPQRSTUVWXYZ\")\n",
    "            x = cv2.rectangle(x,(i[0],45),(i[1],200),255,3) \n",
    "            print(char)\n",
    "            st+=100\n",
    "            textOCR += char\n",
    "    \n",
    "\n",
    "    '''if len(contours) == 0:\n",
    "        lookForOCR = True\n",
    "        \n",
    "    if lookForOCR == True:\n",
    "        ocr = tess.image_to_string(x)\n",
    "        print(ocr,\"<--ocr\",len(ocr))\n",
    "        if len(ocr)== 10:\n",
    "            frame = cv2.putText(frame,\"{}\".format(ocr),(0,410), font, 2 , (200,0,155), 2 , cv2.LINE_AA)\n",
    "            print(ocr)\n",
    "            lookForOCR = False'''\n",
    "\n",
    "    if textOCR != None:\n",
    "        frame = cv2.putText(frame,\"OCR = {}\".format(textOCR),(0,420), font, 2 , (20,0,155), 5 , cv2.LINE_AA)\n",
    "\n",
    "        \n",
    "    \n",
    "    cv2.imshow(\"s\",frame)\n",
    "    cv2.imshow(\"x\",x)\n",
    "    cv2.imshow(\"x[11]\",x[45:200,460:560])\n",
    "    if cv2.waitKey(1) & 0xFF == ord('q'):\n",
    "        break\n",
    "cv2.destroyAllWindows()\n",
    "cap.release()"
   ]
  },
  {
   "cell_type": "code",
   "execution_count": 44,
   "metadata": {},
   "outputs": [
    {
     "name": "stdout",
     "output_type": "stream",
     "text": [
      "7254.5\n"
     ]
    }
   ],
   "source": [
    "cnts = sorted(contours, key = cv2.contourArea,reverse= True)[1:10]\n",
    "print(cv2.contourArea(cnts[1]))"
   ]
  },
  {
   "cell_type": "code",
   "execution_count": 45,
   "metadata": {},
   "outputs": [
    {
     "data": {
      "text/plain": [
       "<matplotlib.image.AxesImage at 0x1e89c57a4c8>"
      ]
     },
     "execution_count": 45,
     "metadata": {},
     "output_type": "execute_result"
    }
   ],
   "source": [
    "plt.imshow(x)"
   ]
  },
  {
   "cell_type": "code",
   "execution_count": null,
   "metadata": {},
   "outputs": [],
   "source": []
  },
  {
   "cell_type": "code",
   "execution_count": 46,
   "metadata": {},
   "outputs": [],
   "source": [
    "dst = frame"
   ]
  },
  {
   "cell_type": "code",
   "execution_count": 47,
   "metadata": {},
   "outputs": [],
   "source": [
    "img = cv2.cvtColor(dst.copy(),cv2.COLOR_BGR2RGB)\n",
    "r,g,b = cv2.split(img.copy()) \n",
    "hsv = cv2.cvtColor(img.copy(),cv2.COLOR_RGB2HSV)\n",
    "hh,s,v = cv2.split(hsv)\n",
    "yuv = cv2.cvtColor(img.copy(),cv2.COLOR_RGB2YUV)\n",
    "y,u,vb = cv2.split(yuv)\n",
    "\n",
    "\n",
    "hls = cv2.cvtColor(img.copy(),cv2.COLOR_RGB2HLS_FULL)\n",
    "h,l,ss = cv2.split(hls)\n"
   ]
  },
  {
   "cell_type": "code",
   "execution_count": 48,
   "metadata": {
    "scrolled": true
   },
   "outputs": [
    {
     "data": {
      "text/plain": [
       "<matplotlib.image.AxesImage at 0x1e89c57d408>"
      ]
     },
     "execution_count": 48,
     "metadata": {},
     "output_type": "execute_result"
    }
   ],
   "source": [
    "plt.imshow(r\n",
    "          )"
   ]
  },
  {
   "cell_type": "code",
   "execution_count": 49,
   "metadata": {},
   "outputs": [
    {
     "data": {
      "text/plain": [
       "<matplotlib.image.AxesImage at 0x1e89c58f3c8>"
      ]
     },
     "execution_count": 49,
     "metadata": {},
     "output_type": "execute_result"
    }
   ],
   "source": [
    "b,g,r = cv2.split(frame.copy())\n",
    "b = r[up-50:low+30]\n",
    "_,x = cv2.threshold(b,180,255,cv2.THRESH_BINARY )\n",
    "x = cv2.dilate(x,(3,3),iterations = 1)\n",
    "plt.imshow(x)"
   ]
  },
  {
   "cell_type": "code",
   "execution_count": 50,
   "metadata": {},
   "outputs": [],
   "source": [
    "%matplotlib notebook"
   ]
  },
  {
   "cell_type": "markdown",
   "metadata": {},
   "source": [
    "# Tess"
   ]
  },
  {
   "cell_type": "code",
   "execution_count": 51,
   "metadata": {
    "scrolled": true
   },
   "outputs": [
    {
     "name": "stdout",
     "output_type": "stream",
     "text": [
      "\n"
     ]
    }
   ],
   "source": [
    "print(tess.image_to_string(x))"
   ]
  },
  {
   "cell_type": "code",
   "execution_count": 52,
   "metadata": {},
   "outputs": [
    {
     "data": {
      "text/plain": [
       "0"
      ]
     },
     "execution_count": 52,
     "metadata": {},
     "output_type": "execute_result"
    }
   ],
   "source": [
    "(len(tess.image_to_string(x)))"
   ]
  },
  {
   "cell_type": "code",
   "execution_count": 53,
   "metadata": {},
   "outputs": [
    {
     "data": {
      "application/javascript": [
       "/* Put everything inside the global mpl namespace */\n",
       "window.mpl = {};\n",
       "\n",
       "\n",
       "mpl.get_websocket_type = function() {\n",
       "    if (typeof(WebSocket) !== 'undefined') {\n",
       "        return WebSocket;\n",
       "    } else if (typeof(MozWebSocket) !== 'undefined') {\n",
       "        return MozWebSocket;\n",
       "    } else {\n",
       "        alert('Your browser does not have WebSocket support. ' +\n",
       "              'Please try Chrome, Safari or Firefox ≥ 6. ' +\n",
       "              'Firefox 4 and 5 are also supported but you ' +\n",
       "              'have to enable WebSockets in about:config.');\n",
       "    };\n",
       "}\n",
       "\n",
       "mpl.figure = function(figure_id, websocket, ondownload, parent_element) {\n",
       "    this.id = figure_id;\n",
       "\n",
       "    this.ws = websocket;\n",
       "\n",
       "    this.supports_binary = (this.ws.binaryType != undefined);\n",
       "\n",
       "    if (!this.supports_binary) {\n",
       "        var warnings = document.getElementById(\"mpl-warnings\");\n",
       "        if (warnings) {\n",
       "            warnings.style.display = 'block';\n",
       "            warnings.textContent = (\n",
       "                \"This browser does not support binary websocket messages. \" +\n",
       "                    \"Performance may be slow.\");\n",
       "        }\n",
       "    }\n",
       "\n",
       "    this.imageObj = new Image();\n",
       "\n",
       "    this.context = undefined;\n",
       "    this.message = undefined;\n",
       "    this.canvas = undefined;\n",
       "    this.rubberband_canvas = undefined;\n",
       "    this.rubberband_context = undefined;\n",
       "    this.format_dropdown = undefined;\n",
       "\n",
       "    this.image_mode = 'full';\n",
       "\n",
       "    this.root = $('<div/>');\n",
       "    this._root_extra_style(this.root)\n",
       "    this.root.attr('style', 'display: inline-block');\n",
       "\n",
       "    $(parent_element).append(this.root);\n",
       "\n",
       "    this._init_header(this);\n",
       "    this._init_canvas(this);\n",
       "    this._init_toolbar(this);\n",
       "\n",
       "    var fig = this;\n",
       "\n",
       "    this.waiting = false;\n",
       "\n",
       "    this.ws.onopen =  function () {\n",
       "            fig.send_message(\"supports_binary\", {value: fig.supports_binary});\n",
       "            fig.send_message(\"send_image_mode\", {});\n",
       "            if (mpl.ratio != 1) {\n",
       "                fig.send_message(\"set_dpi_ratio\", {'dpi_ratio': mpl.ratio});\n",
       "            }\n",
       "            fig.send_message(\"refresh\", {});\n",
       "        }\n",
       "\n",
       "    this.imageObj.onload = function() {\n",
       "            if (fig.image_mode == 'full') {\n",
       "                // Full images could contain transparency (where diff images\n",
       "                // almost always do), so we need to clear the canvas so that\n",
       "                // there is no ghosting.\n",
       "                fig.context.clearRect(0, 0, fig.canvas.width, fig.canvas.height);\n",
       "            }\n",
       "            fig.context.drawImage(fig.imageObj, 0, 0);\n",
       "        };\n",
       "\n",
       "    this.imageObj.onunload = function() {\n",
       "        fig.ws.close();\n",
       "    }\n",
       "\n",
       "    this.ws.onmessage = this._make_on_message_function(this);\n",
       "\n",
       "    this.ondownload = ondownload;\n",
       "}\n",
       "\n",
       "mpl.figure.prototype._init_header = function() {\n",
       "    var titlebar = $(\n",
       "        '<div class=\"ui-dialog-titlebar ui-widget-header ui-corner-all ' +\n",
       "        'ui-helper-clearfix\"/>');\n",
       "    var titletext = $(\n",
       "        '<div class=\"ui-dialog-title\" style=\"width: 100%; ' +\n",
       "        'text-align: center; padding: 3px;\"/>');\n",
       "    titlebar.append(titletext)\n",
       "    this.root.append(titlebar);\n",
       "    this.header = titletext[0];\n",
       "}\n",
       "\n",
       "\n",
       "\n",
       "mpl.figure.prototype._canvas_extra_style = function(canvas_div) {\n",
       "\n",
       "}\n",
       "\n",
       "\n",
       "mpl.figure.prototype._root_extra_style = function(canvas_div) {\n",
       "\n",
       "}\n",
       "\n",
       "mpl.figure.prototype._init_canvas = function() {\n",
       "    var fig = this;\n",
       "\n",
       "    var canvas_div = $('<div/>');\n",
       "\n",
       "    canvas_div.attr('style', 'position: relative; clear: both; outline: 0');\n",
       "\n",
       "    function canvas_keyboard_event(event) {\n",
       "        return fig.key_event(event, event['data']);\n",
       "    }\n",
       "\n",
       "    canvas_div.keydown('key_press', canvas_keyboard_event);\n",
       "    canvas_div.keyup('key_release', canvas_keyboard_event);\n",
       "    this.canvas_div = canvas_div\n",
       "    this._canvas_extra_style(canvas_div)\n",
       "    this.root.append(canvas_div);\n",
       "\n",
       "    var canvas = $('<canvas/>');\n",
       "    canvas.addClass('mpl-canvas');\n",
       "    canvas.attr('style', \"left: 0; top: 0; z-index: 0; outline: 0\")\n",
       "\n",
       "    this.canvas = canvas[0];\n",
       "    this.context = canvas[0].getContext(\"2d\");\n",
       "\n",
       "    var backingStore = this.context.backingStorePixelRatio ||\n",
       "\tthis.context.webkitBackingStorePixelRatio ||\n",
       "\tthis.context.mozBackingStorePixelRatio ||\n",
       "\tthis.context.msBackingStorePixelRatio ||\n",
       "\tthis.context.oBackingStorePixelRatio ||\n",
       "\tthis.context.backingStorePixelRatio || 1;\n",
       "\n",
       "    mpl.ratio = (window.devicePixelRatio || 1) / backingStore;\n",
       "\n",
       "    var rubberband = $('<canvas/>');\n",
       "    rubberband.attr('style', \"position: absolute; left: 0; top: 0; z-index: 1;\")\n",
       "\n",
       "    var pass_mouse_events = true;\n",
       "\n",
       "    canvas_div.resizable({\n",
       "        start: function(event, ui) {\n",
       "            pass_mouse_events = false;\n",
       "        },\n",
       "        resize: function(event, ui) {\n",
       "            fig.request_resize(ui.size.width, ui.size.height);\n",
       "        },\n",
       "        stop: function(event, ui) {\n",
       "            pass_mouse_events = true;\n",
       "            fig.request_resize(ui.size.width, ui.size.height);\n",
       "        },\n",
       "    });\n",
       "\n",
       "    function mouse_event_fn(event) {\n",
       "        if (pass_mouse_events)\n",
       "            return fig.mouse_event(event, event['data']);\n",
       "    }\n",
       "\n",
       "    rubberband.mousedown('button_press', mouse_event_fn);\n",
       "    rubberband.mouseup('button_release', mouse_event_fn);\n",
       "    // Throttle sequential mouse events to 1 every 20ms.\n",
       "    rubberband.mousemove('motion_notify', mouse_event_fn);\n",
       "\n",
       "    rubberband.mouseenter('figure_enter', mouse_event_fn);\n",
       "    rubberband.mouseleave('figure_leave', mouse_event_fn);\n",
       "\n",
       "    canvas_div.on(\"wheel\", function (event) {\n",
       "        event = event.originalEvent;\n",
       "        event['data'] = 'scroll'\n",
       "        if (event.deltaY < 0) {\n",
       "            event.step = 1;\n",
       "        } else {\n",
       "            event.step = -1;\n",
       "        }\n",
       "        mouse_event_fn(event);\n",
       "    });\n",
       "\n",
       "    canvas_div.append(canvas);\n",
       "    canvas_div.append(rubberband);\n",
       "\n",
       "    this.rubberband = rubberband;\n",
       "    this.rubberband_canvas = rubberband[0];\n",
       "    this.rubberband_context = rubberband[0].getContext(\"2d\");\n",
       "    this.rubberband_context.strokeStyle = \"#000000\";\n",
       "\n",
       "    this._resize_canvas = function(width, height) {\n",
       "        // Keep the size of the canvas, canvas container, and rubber band\n",
       "        // canvas in synch.\n",
       "        canvas_div.css('width', width)\n",
       "        canvas_div.css('height', height)\n",
       "\n",
       "        canvas.attr('width', width * mpl.ratio);\n",
       "        canvas.attr('height', height * mpl.ratio);\n",
       "        canvas.attr('style', 'width: ' + width + 'px; height: ' + height + 'px;');\n",
       "\n",
       "        rubberband.attr('width', width);\n",
       "        rubberband.attr('height', height);\n",
       "    }\n",
       "\n",
       "    // Set the figure to an initial 600x600px, this will subsequently be updated\n",
       "    // upon first draw.\n",
       "    this._resize_canvas(600, 600);\n",
       "\n",
       "    // Disable right mouse context menu.\n",
       "    $(this.rubberband_canvas).bind(\"contextmenu\",function(e){\n",
       "        return false;\n",
       "    });\n",
       "\n",
       "    function set_focus () {\n",
       "        canvas.focus();\n",
       "        canvas_div.focus();\n",
       "    }\n",
       "\n",
       "    window.setTimeout(set_focus, 100);\n",
       "}\n",
       "\n",
       "mpl.figure.prototype._init_toolbar = function() {\n",
       "    var fig = this;\n",
       "\n",
       "    var nav_element = $('<div/>');\n",
       "    nav_element.attr('style', 'width: 100%');\n",
       "    this.root.append(nav_element);\n",
       "\n",
       "    // Define a callback function for later on.\n",
       "    function toolbar_event(event) {\n",
       "        return fig.toolbar_button_onclick(event['data']);\n",
       "    }\n",
       "    function toolbar_mouse_event(event) {\n",
       "        return fig.toolbar_button_onmouseover(event['data']);\n",
       "    }\n",
       "\n",
       "    for(var toolbar_ind in mpl.toolbar_items) {\n",
       "        var name = mpl.toolbar_items[toolbar_ind][0];\n",
       "        var tooltip = mpl.toolbar_items[toolbar_ind][1];\n",
       "        var image = mpl.toolbar_items[toolbar_ind][2];\n",
       "        var method_name = mpl.toolbar_items[toolbar_ind][3];\n",
       "\n",
       "        if (!name) {\n",
       "            // put a spacer in here.\n",
       "            continue;\n",
       "        }\n",
       "        var button = $('<button/>');\n",
       "        button.addClass('ui-button ui-widget ui-state-default ui-corner-all ' +\n",
       "                        'ui-button-icon-only');\n",
       "        button.attr('role', 'button');\n",
       "        button.attr('aria-disabled', 'false');\n",
       "        button.click(method_name, toolbar_event);\n",
       "        button.mouseover(tooltip, toolbar_mouse_event);\n",
       "\n",
       "        var icon_img = $('<span/>');\n",
       "        icon_img.addClass('ui-button-icon-primary ui-icon');\n",
       "        icon_img.addClass(image);\n",
       "        icon_img.addClass('ui-corner-all');\n",
       "\n",
       "        var tooltip_span = $('<span/>');\n",
       "        tooltip_span.addClass('ui-button-text');\n",
       "        tooltip_span.html(tooltip);\n",
       "\n",
       "        button.append(icon_img);\n",
       "        button.append(tooltip_span);\n",
       "\n",
       "        nav_element.append(button);\n",
       "    }\n",
       "\n",
       "    var fmt_picker_span = $('<span/>');\n",
       "\n",
       "    var fmt_picker = $('<select/>');\n",
       "    fmt_picker.addClass('mpl-toolbar-option ui-widget ui-widget-content');\n",
       "    fmt_picker_span.append(fmt_picker);\n",
       "    nav_element.append(fmt_picker_span);\n",
       "    this.format_dropdown = fmt_picker[0];\n",
       "\n",
       "    for (var ind in mpl.extensions) {\n",
       "        var fmt = mpl.extensions[ind];\n",
       "        var option = $(\n",
       "            '<option/>', {selected: fmt === mpl.default_extension}).html(fmt);\n",
       "        fmt_picker.append(option);\n",
       "    }\n",
       "\n",
       "    // Add hover states to the ui-buttons\n",
       "    $( \".ui-button\" ).hover(\n",
       "        function() { $(this).addClass(\"ui-state-hover\");},\n",
       "        function() { $(this).removeClass(\"ui-state-hover\");}\n",
       "    );\n",
       "\n",
       "    var status_bar = $('<span class=\"mpl-message\"/>');\n",
       "    nav_element.append(status_bar);\n",
       "    this.message = status_bar[0];\n",
       "}\n",
       "\n",
       "mpl.figure.prototype.request_resize = function(x_pixels, y_pixels) {\n",
       "    // Request matplotlib to resize the figure. Matplotlib will then trigger a resize in the client,\n",
       "    // which will in turn request a refresh of the image.\n",
       "    this.send_message('resize', {'width': x_pixels, 'height': y_pixels});\n",
       "}\n",
       "\n",
       "mpl.figure.prototype.send_message = function(type, properties) {\n",
       "    properties['type'] = type;\n",
       "    properties['figure_id'] = this.id;\n",
       "    this.ws.send(JSON.stringify(properties));\n",
       "}\n",
       "\n",
       "mpl.figure.prototype.send_draw_message = function() {\n",
       "    if (!this.waiting) {\n",
       "        this.waiting = true;\n",
       "        this.ws.send(JSON.stringify({type: \"draw\", figure_id: this.id}));\n",
       "    }\n",
       "}\n",
       "\n",
       "\n",
       "mpl.figure.prototype.handle_save = function(fig, msg) {\n",
       "    var format_dropdown = fig.format_dropdown;\n",
       "    var format = format_dropdown.options[format_dropdown.selectedIndex].value;\n",
       "    fig.ondownload(fig, format);\n",
       "}\n",
       "\n",
       "\n",
       "mpl.figure.prototype.handle_resize = function(fig, msg) {\n",
       "    var size = msg['size'];\n",
       "    if (size[0] != fig.canvas.width || size[1] != fig.canvas.height) {\n",
       "        fig._resize_canvas(size[0], size[1]);\n",
       "        fig.send_message(\"refresh\", {});\n",
       "    };\n",
       "}\n",
       "\n",
       "mpl.figure.prototype.handle_rubberband = function(fig, msg) {\n",
       "    var x0 = msg['x0'] / mpl.ratio;\n",
       "    var y0 = (fig.canvas.height - msg['y0']) / mpl.ratio;\n",
       "    var x1 = msg['x1'] / mpl.ratio;\n",
       "    var y1 = (fig.canvas.height - msg['y1']) / mpl.ratio;\n",
       "    x0 = Math.floor(x0) + 0.5;\n",
       "    y0 = Math.floor(y0) + 0.5;\n",
       "    x1 = Math.floor(x1) + 0.5;\n",
       "    y1 = Math.floor(y1) + 0.5;\n",
       "    var min_x = Math.min(x0, x1);\n",
       "    var min_y = Math.min(y0, y1);\n",
       "    var width = Math.abs(x1 - x0);\n",
       "    var height = Math.abs(y1 - y0);\n",
       "\n",
       "    fig.rubberband_context.clearRect(\n",
       "        0, 0, fig.canvas.width / mpl.ratio, fig.canvas.height / mpl.ratio);\n",
       "\n",
       "    fig.rubberband_context.strokeRect(min_x, min_y, width, height);\n",
       "}\n",
       "\n",
       "mpl.figure.prototype.handle_figure_label = function(fig, msg) {\n",
       "    // Updates the figure title.\n",
       "    fig.header.textContent = msg['label'];\n",
       "}\n",
       "\n",
       "mpl.figure.prototype.handle_cursor = function(fig, msg) {\n",
       "    var cursor = msg['cursor'];\n",
       "    switch(cursor)\n",
       "    {\n",
       "    case 0:\n",
       "        cursor = 'pointer';\n",
       "        break;\n",
       "    case 1:\n",
       "        cursor = 'default';\n",
       "        break;\n",
       "    case 2:\n",
       "        cursor = 'crosshair';\n",
       "        break;\n",
       "    case 3:\n",
       "        cursor = 'move';\n",
       "        break;\n",
       "    }\n",
       "    fig.rubberband_canvas.style.cursor = cursor;\n",
       "}\n",
       "\n",
       "mpl.figure.prototype.handle_message = function(fig, msg) {\n",
       "    fig.message.textContent = msg['message'];\n",
       "}\n",
       "\n",
       "mpl.figure.prototype.handle_draw = function(fig, msg) {\n",
       "    // Request the server to send over a new figure.\n",
       "    fig.send_draw_message();\n",
       "}\n",
       "\n",
       "mpl.figure.prototype.handle_image_mode = function(fig, msg) {\n",
       "    fig.image_mode = msg['mode'];\n",
       "}\n",
       "\n",
       "mpl.figure.prototype.updated_canvas_event = function() {\n",
       "    // Called whenever the canvas gets updated.\n",
       "    this.send_message(\"ack\", {});\n",
       "}\n",
       "\n",
       "// A function to construct a web socket function for onmessage handling.\n",
       "// Called in the figure constructor.\n",
       "mpl.figure.prototype._make_on_message_function = function(fig) {\n",
       "    return function socket_on_message(evt) {\n",
       "        if (evt.data instanceof Blob) {\n",
       "            /* FIXME: We get \"Resource interpreted as Image but\n",
       "             * transferred with MIME type text/plain:\" errors on\n",
       "             * Chrome.  But how to set the MIME type?  It doesn't seem\n",
       "             * to be part of the websocket stream */\n",
       "            evt.data.type = \"image/png\";\n",
       "\n",
       "            /* Free the memory for the previous frames */\n",
       "            if (fig.imageObj.src) {\n",
       "                (window.URL || window.webkitURL).revokeObjectURL(\n",
       "                    fig.imageObj.src);\n",
       "            }\n",
       "\n",
       "            fig.imageObj.src = (window.URL || window.webkitURL).createObjectURL(\n",
       "                evt.data);\n",
       "            fig.updated_canvas_event();\n",
       "            fig.waiting = false;\n",
       "            return;\n",
       "        }\n",
       "        else if (typeof evt.data === 'string' && evt.data.slice(0, 21) == \"data:image/png;base64\") {\n",
       "            fig.imageObj.src = evt.data;\n",
       "            fig.updated_canvas_event();\n",
       "            fig.waiting = false;\n",
       "            return;\n",
       "        }\n",
       "\n",
       "        var msg = JSON.parse(evt.data);\n",
       "        var msg_type = msg['type'];\n",
       "\n",
       "        // Call the  \"handle_{type}\" callback, which takes\n",
       "        // the figure and JSON message as its only arguments.\n",
       "        try {\n",
       "            var callback = fig[\"handle_\" + msg_type];\n",
       "        } catch (e) {\n",
       "            console.log(\"No handler for the '\" + msg_type + \"' message type: \", msg);\n",
       "            return;\n",
       "        }\n",
       "\n",
       "        if (callback) {\n",
       "            try {\n",
       "                // console.log(\"Handling '\" + msg_type + \"' message: \", msg);\n",
       "                callback(fig, msg);\n",
       "            } catch (e) {\n",
       "                console.log(\"Exception inside the 'handler_\" + msg_type + \"' callback:\", e, e.stack, msg);\n",
       "            }\n",
       "        }\n",
       "    };\n",
       "}\n",
       "\n",
       "// from http://stackoverflow.com/questions/1114465/getting-mouse-location-in-canvas\n",
       "mpl.findpos = function(e) {\n",
       "    //this section is from http://www.quirksmode.org/js/events_properties.html\n",
       "    var targ;\n",
       "    if (!e)\n",
       "        e = window.event;\n",
       "    if (e.target)\n",
       "        targ = e.target;\n",
       "    else if (e.srcElement)\n",
       "        targ = e.srcElement;\n",
       "    if (targ.nodeType == 3) // defeat Safari bug\n",
       "        targ = targ.parentNode;\n",
       "\n",
       "    // jQuery normalizes the pageX and pageY\n",
       "    // pageX,Y are the mouse positions relative to the document\n",
       "    // offset() returns the position of the element relative to the document\n",
       "    var x = e.pageX - $(targ).offset().left;\n",
       "    var y = e.pageY - $(targ).offset().top;\n",
       "\n",
       "    return {\"x\": x, \"y\": y};\n",
       "};\n",
       "\n",
       "/*\n",
       " * return a copy of an object with only non-object keys\n",
       " * we need this to avoid circular references\n",
       " * http://stackoverflow.com/a/24161582/3208463\n",
       " */\n",
       "function simpleKeys (original) {\n",
       "  return Object.keys(original).reduce(function (obj, key) {\n",
       "    if (typeof original[key] !== 'object')\n",
       "        obj[key] = original[key]\n",
       "    return obj;\n",
       "  }, {});\n",
       "}\n",
       "\n",
       "mpl.figure.prototype.mouse_event = function(event, name) {\n",
       "    var canvas_pos = mpl.findpos(event)\n",
       "\n",
       "    if (name === 'button_press')\n",
       "    {\n",
       "        this.canvas.focus();\n",
       "        this.canvas_div.focus();\n",
       "    }\n",
       "\n",
       "    var x = canvas_pos.x * mpl.ratio;\n",
       "    var y = canvas_pos.y * mpl.ratio;\n",
       "\n",
       "    this.send_message(name, {x: x, y: y, button: event.button,\n",
       "                             step: event.step,\n",
       "                             guiEvent: simpleKeys(event)});\n",
       "\n",
       "    /* This prevents the web browser from automatically changing to\n",
       "     * the text insertion cursor when the button is pressed.  We want\n",
       "     * to control all of the cursor setting manually through the\n",
       "     * 'cursor' event from matplotlib */\n",
       "    event.preventDefault();\n",
       "    return false;\n",
       "}\n",
       "\n",
       "mpl.figure.prototype._key_event_extra = function(event, name) {\n",
       "    // Handle any extra behaviour associated with a key event\n",
       "}\n",
       "\n",
       "mpl.figure.prototype.key_event = function(event, name) {\n",
       "\n",
       "    // Prevent repeat events\n",
       "    if (name == 'key_press')\n",
       "    {\n",
       "        if (event.which === this._key)\n",
       "            return;\n",
       "        else\n",
       "            this._key = event.which;\n",
       "    }\n",
       "    if (name == 'key_release')\n",
       "        this._key = null;\n",
       "\n",
       "    var value = '';\n",
       "    if (event.ctrlKey && event.which != 17)\n",
       "        value += \"ctrl+\";\n",
       "    if (event.altKey && event.which != 18)\n",
       "        value += \"alt+\";\n",
       "    if (event.shiftKey && event.which != 16)\n",
       "        value += \"shift+\";\n",
       "\n",
       "    value += 'k';\n",
       "    value += event.which.toString();\n",
       "\n",
       "    this._key_event_extra(event, name);\n",
       "\n",
       "    this.send_message(name, {key: value,\n",
       "                             guiEvent: simpleKeys(event)});\n",
       "    return false;\n",
       "}\n",
       "\n",
       "mpl.figure.prototype.toolbar_button_onclick = function(name) {\n",
       "    if (name == 'download') {\n",
       "        this.handle_save(this, null);\n",
       "    } else {\n",
       "        this.send_message(\"toolbar_button\", {name: name});\n",
       "    }\n",
       "};\n",
       "\n",
       "mpl.figure.prototype.toolbar_button_onmouseover = function(tooltip) {\n",
       "    this.message.textContent = tooltip;\n",
       "};\n",
       "mpl.toolbar_items = [[\"Home\", \"Reset original view\", \"fa fa-home icon-home\", \"home\"], [\"Back\", \"Back to previous view\", \"fa fa-arrow-left icon-arrow-left\", \"back\"], [\"Forward\", \"Forward to next view\", \"fa fa-arrow-right icon-arrow-right\", \"forward\"], [\"\", \"\", \"\", \"\"], [\"Pan\", \"Pan axes with left mouse, zoom with right\", \"fa fa-arrows icon-move\", \"pan\"], [\"Zoom\", \"Zoom to rectangle\", \"fa fa-square-o icon-check-empty\", \"zoom\"], [\"\", \"\", \"\", \"\"], [\"Download\", \"Download plot\", \"fa fa-floppy-o icon-save\", \"download\"]];\n",
       "\n",
       "mpl.extensions = [\"eps\", \"jpeg\", \"pdf\", \"png\", \"ps\", \"raw\", \"svg\", \"tif\"];\n",
       "\n",
       "mpl.default_extension = \"png\";var comm_websocket_adapter = function(comm) {\n",
       "    // Create a \"websocket\"-like object which calls the given IPython comm\n",
       "    // object with the appropriate methods. Currently this is a non binary\n",
       "    // socket, so there is still some room for performance tuning.\n",
       "    var ws = {};\n",
       "\n",
       "    ws.close = function() {\n",
       "        comm.close()\n",
       "    };\n",
       "    ws.send = function(m) {\n",
       "        //console.log('sending', m);\n",
       "        comm.send(m);\n",
       "    };\n",
       "    // Register the callback with on_msg.\n",
       "    comm.on_msg(function(msg) {\n",
       "        //console.log('receiving', msg['content']['data'], msg);\n",
       "        // Pass the mpl event to the overridden (by mpl) onmessage function.\n",
       "        ws.onmessage(msg['content']['data'])\n",
       "    });\n",
       "    return ws;\n",
       "}\n",
       "\n",
       "mpl.mpl_figure_comm = function(comm, msg) {\n",
       "    // This is the function which gets called when the mpl process\n",
       "    // starts-up an IPython Comm through the \"matplotlib\" channel.\n",
       "\n",
       "    var id = msg.content.data.id;\n",
       "    // Get hold of the div created by the display call when the Comm\n",
       "    // socket was opened in Python.\n",
       "    var element = $(\"#\" + id);\n",
       "    var ws_proxy = comm_websocket_adapter(comm)\n",
       "\n",
       "    function ondownload(figure, format) {\n",
       "        window.open(figure.imageObj.src);\n",
       "    }\n",
       "\n",
       "    var fig = new mpl.figure(id, ws_proxy,\n",
       "                           ondownload,\n",
       "                           element.get(0));\n",
       "\n",
       "    // Call onopen now - mpl needs it, as it is assuming we've passed it a real\n",
       "    // web socket which is closed, not our websocket->open comm proxy.\n",
       "    ws_proxy.onopen();\n",
       "\n",
       "    fig.parent_element = element.get(0);\n",
       "    fig.cell_info = mpl.find_output_cell(\"<div id='\" + id + \"'></div>\");\n",
       "    if (!fig.cell_info) {\n",
       "        console.error(\"Failed to find cell for figure\", id, fig);\n",
       "        return;\n",
       "    }\n",
       "\n",
       "    var output_index = fig.cell_info[2]\n",
       "    var cell = fig.cell_info[0];\n",
       "\n",
       "};\n",
       "\n",
       "mpl.figure.prototype.handle_close = function(fig, msg) {\n",
       "    var width = fig.canvas.width/mpl.ratio\n",
       "    fig.root.unbind('remove')\n",
       "\n",
       "    // Update the output cell to use the data from the current canvas.\n",
       "    fig.push_to_output();\n",
       "    var dataURL = fig.canvas.toDataURL();\n",
       "    // Re-enable the keyboard manager in IPython - without this line, in FF,\n",
       "    // the notebook keyboard shortcuts fail.\n",
       "    IPython.keyboard_manager.enable()\n",
       "    $(fig.parent_element).html('<img src=\"' + dataURL + '\" width=\"' + width + '\">');\n",
       "    fig.close_ws(fig, msg);\n",
       "}\n",
       "\n",
       "mpl.figure.prototype.close_ws = function(fig, msg){\n",
       "    fig.send_message('closing', msg);\n",
       "    // fig.ws.close()\n",
       "}\n",
       "\n",
       "mpl.figure.prototype.push_to_output = function(remove_interactive) {\n",
       "    // Turn the data on the canvas into data in the output cell.\n",
       "    var width = this.canvas.width/mpl.ratio\n",
       "    var dataURL = this.canvas.toDataURL();\n",
       "    this.cell_info[1]['text/html'] = '<img src=\"' + dataURL + '\" width=\"' + width + '\">';\n",
       "}\n",
       "\n",
       "mpl.figure.prototype.updated_canvas_event = function() {\n",
       "    // Tell IPython that the notebook contents must change.\n",
       "    IPython.notebook.set_dirty(true);\n",
       "    this.send_message(\"ack\", {});\n",
       "    var fig = this;\n",
       "    // Wait a second, then push the new image to the DOM so\n",
       "    // that it is saved nicely (might be nice to debounce this).\n",
       "    setTimeout(function () { fig.push_to_output() }, 1000);\n",
       "}\n",
       "\n",
       "mpl.figure.prototype._init_toolbar = function() {\n",
       "    var fig = this;\n",
       "\n",
       "    var nav_element = $('<div/>');\n",
       "    nav_element.attr('style', 'width: 100%');\n",
       "    this.root.append(nav_element);\n",
       "\n",
       "    // Define a callback function for later on.\n",
       "    function toolbar_event(event) {\n",
       "        return fig.toolbar_button_onclick(event['data']);\n",
       "    }\n",
       "    function toolbar_mouse_event(event) {\n",
       "        return fig.toolbar_button_onmouseover(event['data']);\n",
       "    }\n",
       "\n",
       "    for(var toolbar_ind in mpl.toolbar_items){\n",
       "        var name = mpl.toolbar_items[toolbar_ind][0];\n",
       "        var tooltip = mpl.toolbar_items[toolbar_ind][1];\n",
       "        var image = mpl.toolbar_items[toolbar_ind][2];\n",
       "        var method_name = mpl.toolbar_items[toolbar_ind][3];\n",
       "\n",
       "        if (!name) { continue; };\n",
       "\n",
       "        var button = $('<button class=\"btn btn-default\" href=\"#\" title=\"' + name + '\"><i class=\"fa ' + image + ' fa-lg\"></i></button>');\n",
       "        button.click(method_name, toolbar_event);\n",
       "        button.mouseover(tooltip, toolbar_mouse_event);\n",
       "        nav_element.append(button);\n",
       "    }\n",
       "\n",
       "    // Add the status bar.\n",
       "    var status_bar = $('<span class=\"mpl-message\" style=\"text-align:right; float: right;\"/>');\n",
       "    nav_element.append(status_bar);\n",
       "    this.message = status_bar[0];\n",
       "\n",
       "    // Add the close button to the window.\n",
       "    var buttongrp = $('<div class=\"btn-group inline pull-right\"></div>');\n",
       "    var button = $('<button class=\"btn btn-mini btn-primary\" href=\"#\" title=\"Stop Interaction\"><i class=\"fa fa-power-off icon-remove icon-large\"></i></button>');\n",
       "    button.click(function (evt) { fig.handle_close(fig, {}); } );\n",
       "    button.mouseover('Stop Interaction', toolbar_mouse_event);\n",
       "    buttongrp.append(button);\n",
       "    var titlebar = this.root.find($('.ui-dialog-titlebar'));\n",
       "    titlebar.prepend(buttongrp);\n",
       "}\n",
       "\n",
       "mpl.figure.prototype._root_extra_style = function(el){\n",
       "    var fig = this\n",
       "    el.on(\"remove\", function(){\n",
       "\tfig.close_ws(fig, {});\n",
       "    });\n",
       "}\n",
       "\n",
       "mpl.figure.prototype._canvas_extra_style = function(el){\n",
       "    // this is important to make the div 'focusable\n",
       "    el.attr('tabindex', 0)\n",
       "    // reach out to IPython and tell the keyboard manager to turn it's self\n",
       "    // off when our div gets focus\n",
       "\n",
       "    // location in version 3\n",
       "    if (IPython.notebook.keyboard_manager) {\n",
       "        IPython.notebook.keyboard_manager.register_events(el);\n",
       "    }\n",
       "    else {\n",
       "        // location in version 2\n",
       "        IPython.keyboard_manager.register_events(el);\n",
       "    }\n",
       "\n",
       "}\n",
       "\n",
       "mpl.figure.prototype._key_event_extra = function(event, name) {\n",
       "    var manager = IPython.notebook.keyboard_manager;\n",
       "    if (!manager)\n",
       "        manager = IPython.keyboard_manager;\n",
       "\n",
       "    // Check for shift+enter\n",
       "    if (event.shiftKey && event.which == 13) {\n",
       "        this.canvas_div.blur();\n",
       "        event.shiftKey = false;\n",
       "        // Send a \"J\" for go to next cell\n",
       "        event.which = 74;\n",
       "        event.keyCode = 74;\n",
       "        manager.command_mode();\n",
       "        manager.handle_keydown(event);\n",
       "    }\n",
       "}\n",
       "\n",
       "mpl.figure.prototype.handle_save = function(fig, msg) {\n",
       "    fig.ondownload(fig, null);\n",
       "}\n",
       "\n",
       "\n",
       "mpl.find_output_cell = function(html_output) {\n",
       "    // Return the cell and output element which can be found *uniquely* in the notebook.\n",
       "    // Note - this is a bit hacky, but it is done because the \"notebook_saving.Notebook\"\n",
       "    // IPython event is triggered only after the cells have been serialised, which for\n",
       "    // our purposes (turning an active figure into a static one), is too late.\n",
       "    var cells = IPython.notebook.get_cells();\n",
       "    var ncells = cells.length;\n",
       "    for (var i=0; i<ncells; i++) {\n",
       "        var cell = cells[i];\n",
       "        if (cell.cell_type === 'code'){\n",
       "            for (var j=0; j<cell.output_area.outputs.length; j++) {\n",
       "                var data = cell.output_area.outputs[j];\n",
       "                if (data.data) {\n",
       "                    // IPython >= 3 moved mimebundle to data attribute of output\n",
       "                    data = data.data;\n",
       "                }\n",
       "                if (data['text/html'] == html_output) {\n",
       "                    return [cell, data, j];\n",
       "                }\n",
       "            }\n",
       "        }\n",
       "    }\n",
       "}\n",
       "\n",
       "// Register the function which deals with the matplotlib target/channel.\n",
       "// The kernel may be null if the page has been refreshed.\n",
       "if (IPython.notebook.kernel != null) {\n",
       "    IPython.notebook.kernel.comm_manager.register_target('matplotlib', mpl.mpl_figure_comm);\n",
       "}\n"
      ],
      "text/plain": [
       "<IPython.core.display.Javascript object>"
      ]
     },
     "metadata": {},
     "output_type": "display_data"
    },
    {
     "data": {
      "text/html": [
       "<img src=\"data:image/png;base64,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\" width=\"640\">"
      ],
      "text/plain": [
       "<IPython.core.display.HTML object>"
      ]
     },
     "metadata": {},
     "output_type": "display_data"
    },
    {
     "data": {
      "text/plain": [
       "<matplotlib.image.AxesImage at 0x1e89ae4e6c8>"
      ]
     },
     "execution_count": 53,
     "metadata": {},
     "output_type": "execute_result"
    }
   ],
   "source": [
    "plt.imshow(x[45:200,460:560+3])"
   ]
  },
  {
   "cell_type": "code",
   "execution_count": 54,
   "metadata": {},
   "outputs": [
    {
     "data": {
      "text/plain": [
       "409190"
      ]
     },
     "execution_count": 54,
     "metadata": {},
     "output_type": "execute_result"
    }
   ],
   "source": [
    "(b.shape[0]*b.shape[1]) - len(x.nonzero()[0])"
   ]
  },
  {
   "cell_type": "code",
   "execution_count": 55,
   "metadata": {},
   "outputs": [
    {
     "name": "stdout",
     "output_type": "stream",
     "text": [
      "644\n"
     ]
    }
   ],
   "source": [
    "blank = np.zeros(b.shape)\n",
    "_ , contours, hierarchy =   cv2.findContours(x.copy(),cv2.RETR_LIST,cv2.CHAIN_APPROX_SIMPLE)\n",
    "cnts = sorted(contours, key = cv2.contourArea,reverse= True)[0:10]\n",
    "print(len(contours))"
   ]
  },
  {
   "cell_type": "code",
   "execution_count": 56,
   "metadata": {},
   "outputs": [],
   "source": [
    "blank = cv2.drawContours(blank,cnts,-1,225,3)"
   ]
  },
  {
   "cell_type": "code",
   "execution_count": null,
   "metadata": {},
   "outputs": [],
   "source": [
    "plt.imshow(blank)"
   ]
  },
  {
   "cell_type": "code",
   "execution_count": 57,
   "metadata": {},
   "outputs": [],
   "source": [
    "#cv2.imwrite(\"new_empty_slab.png\",vb)"
   ]
  },
  {
   "cell_type": "code",
   "execution_count": 58,
   "metadata": {},
   "outputs": [
    {
     "name": "stdout",
     "output_type": "stream",
     "text": [
      "\n"
     ]
    },
    {
     "data": {
      "text/plain": [
       "<matplotlib.image.AxesImage at 0x1e89c542ec8>"
      ]
     },
     "execution_count": 58,
     "metadata": {},
     "output_type": "execute_result"
    }
   ],
   "source": [
    "blankSlab = cv2.imread(\"new_empty_slab.png\",0)\n",
    "\n",
    "#blankSlab = cv2.resize(blankSlab,(blankSlab.shape[1]*2,blankSlab.shape[0]*2), cv2.INTER_AREA)\n",
    "#dst = cv2.resize(dst,(dst.shape[1]*2,dst.shape[0]*2), cv2.INTER_AREA)\n",
    "\n",
    "dstGray = cv2.cvtColor(dst,cv2.COLOR_BGR2GRAY)\n",
    "\n",
    "yuvb_ = cv2.cvtColor(img.copy(),cv2.COLOR_RGB2YUV)\n",
    "y,u,vb_ = cv2.split(yuv)\n",
    "\n",
    "#diff = cv2.bitwise_not( dstGray, blankSlab)\n",
    "diff = cv2.bitwise_not( blankSlab, dstGray)\n",
    "diff = np.array(diff,np.uint8)\n",
    "print(tess.image_to_string(diff))\n",
    "plt.imshow(diff)"
   ]
  },
  {
   "cell_type": "code",
   "execution_count": null,
   "metadata": {},
   "outputs": [],
   "source": [
    "break"
   ]
  },
  {
   "cell_type": "code",
   "execution_count": null,
   "metadata": {},
   "outputs": [],
   "source": [
    "%matplotlib notebook"
   ]
  },
  {
   "cell_type": "code",
   "execution_count": null,
   "metadata": {
    "scrolled": true
   },
   "outputs": [],
   "source": [
    "plt.imshow(diff)"
   ]
  },
  {
   "cell_type": "code",
   "execution_count": null,
   "metadata": {},
   "outputs": [],
   "source": [
    "#%matplotlib notebook"
   ]
  },
  {
   "cell_type": "code",
   "execution_count": null,
   "metadata": {},
   "outputs": [],
   "source": [
    "gray = cv2.cvtColor(dst,cv2.COLOR_BGR2GRAY)\n",
    "_,x = cv2.threshold(gray,150,255,cv2.THRESH_BINARY)\n",
    "#adThresh = cv2.adaptiveThreshold(gray,255,cv2.ADAPTIVE_THRESH_GAUSSIAN_C,cv2.THRESH_BINARY ,191*3,25)\n",
    "erosion = cv2.erode(x,(3,3),iterations = 3)\n",
    "plt.imshow(erosion)"
   ]
  },
  {
   "cell_type": "code",
   "execution_count": null,
   "metadata": {},
   "outputs": [],
   "source": [
    "blank = np.zeros(erosion.shape)\n",
    "_ , contours, hierarchy =   cv2.findContours(erosion.copy(),cv2.RETR_CCOMP,cv2.CHAIN_APPROX_SIMPLE)\n",
    "cnts = sorted(contours, key = cv2.contourArea,reverse= True)\n",
    "# cntr Order\n",
    "#print(len(cnts))\n",
    "\n",
    "'''epsilon = 0.0001*cv2.arcLength(cnts[0],True)\n",
    "approx = cv2.approxPolyDP(cnts[0],epsilon,True)'''\n",
    "for i in range(len(cnts)):\n",
    "    print(cv2.contourArea(cnts[i]))\n",
    "#\n",
    "cnts, bBox = sortCnt.sort_contours(cnts[1:11])\n",
    "#print(cnts)\n",
    "print(cv2.contourArea(cnts[-1]),\"___\")"
   ]
  },
  {
   "cell_type": "code",
   "execution_count": null,
   "metadata": {},
   "outputs": [],
   "source": [
    "ordr = 1\n",
    "dstCnt = cv2.drawContours(blank.copy(),cnts,ordr,(255),2)\n",
    "plt.imshow(dstCnt)"
   ]
  },
  {
   "cell_type": "code",
   "execution_count": null,
   "metadata": {},
   "outputs": [],
   "source": [
    "bBox"
   ]
  },
  {
   "cell_type": "code",
   "execution_count": null,
   "metadata": {},
   "outputs": [],
   "source": [
    "#np.save(\"imgPoints.npy\",bBox)"
   ]
  },
  {
   "cell_type": "code",
   "execution_count": null,
   "metadata": {
    "scrolled": true
   },
   "outputs": [],
   "source": [
    "c = np.load(\"ocrPoints.npy\")\n",
    "c"
   ]
  },
  {
   "cell_type": "code",
   "execution_count": null,
   "metadata": {},
   "outputs": [],
   "source": [
    "# --psm 13 it should works, because it will consider it as a raw text line, without searching for pages and paragraphs.\n",
    "for i in c:\n",
    "    #x = erosion[i[1]-11:i[1]+120,i[0]-5:i[0]+44] # GOOD\n",
    "    \n",
    "    #x = erosion[i[1]-15:i[1]+125,i[0]-10:i[0]+50] # with imgPoints.npy\n",
    "    x = erosion[i[1]:i[1]+i[3],i[0]:i[0]+i[2]]\n",
    "    ocr = tess.image_to_string(x, lang = 'eng' , config=\"--psm 13 --oem 1 -c tessedit_char_whitelist=0123456789ABCDEFGHIJKLMNOPQRSTUVWXYZ\",)\n",
    "    if ocr == \"\":\n",
    "        ocr = \"_\"\n",
    "    print(ocr)\n",
    "    cv2.imshow(\"sbjhkj\",x)\n",
    "    cv2.waitKey(0)\n",
    "cv2.destroyAllWindows()"
   ]
  },
  {
   "cell_type": "code",
   "execution_count": null,
   "metadata": {},
   "outputs": [],
   "source": [
    "print(tess.image_to_string(erosion, config=\"--psm 13\",timeout=500))"
   ]
  },
  {
   "cell_type": "code",
   "execution_count": null,
   "metadata": {
    "scrolled": true
   },
   "outputs": [],
   "source": [
    "break"
   ]
  },
  {
   "cell_type": "code",
   "execution_count": null,
   "metadata": {},
   "outputs": [],
   "source": [
    "c[0][0] = 100\n",
    "c"
   ]
  },
  {
   "cell_type": "code",
   "execution_count": null,
   "metadata": {},
   "outputs": [],
   "source": [
    "c[2:4]"
   ]
  },
  {
   "cell_type": "code",
   "execution_count": null,
   "metadata": {},
   "outputs": [],
   "source": [
    "i = c[1]"
   ]
  },
  {
   "cell_type": "code",
   "execution_count": null,
   "metadata": {},
   "outputs": [],
   "source": [
    "i = [540 ,17,60,120]"
   ]
  },
  {
   "cell_type": "code",
   "execution_count": null,
   "metadata": {},
   "outputs": [],
   "source": [
    "438+50"
   ]
  },
  {
   "cell_type": "code",
   "execution_count": null,
   "metadata": {
    "scrolled": true
   },
   "outputs": [],
   "source": [
    "dst = cv2.rectangle(dst.copy(),(i[0],i[1]),(i[0]+i[2],i[1]+i[3]),(0,0,255),1)\n",
    "text = tess.image_to_string(x, lang = 'eng' , config=\"--psm 13 --oem 1 -c tessedit_char_whitelist=0123456789ABCDEFGHIJKLMNOPQRSTUVWXYZ\")\n",
    "print(text)\n",
    "cv2.imshow(\"sbjhkj\",dst)\n",
    "cv2.waitKey(0)\n",
    "cv2.destroyAllWindows()\n",
    "#plt.imshow(dst)"
   ]
  },
  {
   "cell_type": "code",
   "execution_count": null,
   "metadata": {},
   "outputs": [],
   "source": [
    "ocrPoints = [[100,17,80,120],[153,13,58,120 + 7],\n",
    "             [202,17,57,120],[253,13,55,120 + 7],\n",
    "             [297,17,55,120],[350,13,55,120 + 7],\n",
    "             [390,17,57,120],[441,13,50,120 + 7],\n",
    "             [490,17,49,120],[537,13,60,120 + 7]]"
   ]
  },
  {
   "cell_type": "code",
   "execution_count": null,
   "metadata": {},
   "outputs": [],
   "source": [
    "#np.save(\"ocrPoints.npy\",ocrPoints)"
   ]
  },
  {
   "cell_type": "code",
   "execution_count": null,
   "metadata": {},
   "outputs": [],
   "source": [
    "print(tess.image_to_string(erosion, config=\"--psm 13\",timeout=500))"
   ]
  },
  {
   "cell_type": "code",
   "execution_count": null,
   "metadata": {},
   "outputs": [],
   "source": [
    "len(\"ADBARRSCO1\")"
   ]
  },
  {
   "cell_type": "code",
   "execution_count": null,
   "metadata": {},
   "outputs": [],
   "source": [
    "while(True):\n",
    "    ret, img = cap.read()\n",
    "    \n",
    "    pts1 = np.float32([[115,417],[509,340],[115,490],[509,400]])\n",
    "    pts2 = np.float32([[0,0],[352,0],[0,81],[352,81]])\n",
    "\n",
    "    M = cv2.getPerspectiveTransform(pts1,pts2)\n",
    "\n",
    "    #dst = cv2.warpPerspective(allFrames[-450],M,(352,81))\n",
    "    dst = cv2.warpPerspective(img,M,(402,81))\n",
    "    dst_2 = cv2.resize(dst,(dst.shape[1]*2,dst.shape[0]*2), cv2.INTER_AREA)\n",
    "    \n",
    "    cv2.imshow('img ',dst)\n",
    "    cv2.imshow(\"full\",img)\n",
    "    cv2.imshow(\"2x\",dst_2)\n",
    "    time.sleep(0.09)\n",
    "   \n",
    "    if cv2.waitKey(1) & 0xFF == ord('q'):\n",
    "        break\n",
    "\n",
    "# When everything done, release the capture\n",
    "cap.release()\n",
    "cv2.destroyAllWindows()"
   ]
  },
  {
   "cell_type": "code",
   "execution_count": null,
   "metadata": {},
   "outputs": [],
   "source": []
  }
 ],
 "metadata": {
  "kernelspec": {
   "display_name": "Python 3",
   "language": "python",
   "name": "python3"
  },
  "language_info": {
   "codemirror_mode": {
    "name": "ipython",
    "version": 3
   },
   "file_extension": ".py",
   "mimetype": "text/x-python",
   "name": "python",
   "nbconvert_exporter": "python",
   "pygments_lexer": "ipython3",
   "version": "3.7.5"
  }
 },
 "nbformat": 4,
 "nbformat_minor": 2
}
